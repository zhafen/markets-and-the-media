{
 "cells": [
  {
   "cell_type": "code",
   "execution_count": 1,
   "id": "ad4e0a66-4373-46e1-9f71-a9ad93c432bb",
   "metadata": {},
   "outputs": [],
   "source": [
    "# General imports\n",
    "import numpy as np\n",
    "import os\n",
    "import pandas as pd"
   ]
  },
  {
   "cell_type": "code",
   "execution_count": 2,
   "id": "9df70076-bc77-445b-9f00-2c292bdd89ca",
   "metadata": {},
   "outputs": [],
   "source": [
    "# This is the config file in the same directory as the analysis script\n",
    "import config"
   ]
  },
  {
   "cell_type": "markdown",
   "id": "3c1074de-f7b8-4748-b3f4-7cdf62bb64b4",
   "metadata": {},
   "source": [
    "# Parameters"
   ]
  },
  {
   "cell_type": "code",
   "execution_count": 34,
   "id": "3803fc9c-5b1d-49f5-b8bf-9b450a1b6217",
   "metadata": {},
   "outputs": [],
   "source": [
    "# Parameters set in this notebook\n",
    "# If any of these are contained in the config they will be overwritten\n",
    "pm = {\n",
    "    # Max number of articles to retrieve\n",
    "    'n_articles': 100000,\n",
    "    \n",
    "    # We toss anything below these as irrelevant\n",
    "    'required_rank': 5,\n",
    "    'required_mentions': 0,\n",
    "    \n",
    "    # Columns from which to compile text\n",
    "    'text_columns': [ 'abstract', 'lead_paragraph', 'snippet', 'headline.main', ],\n",
    "}"
   ]
  },
  {
   "cell_type": "code",
   "execution_count": 35,
   "id": "f18adc45-39c9-42d9-9efd-1f04beff4249",
   "metadata": {},
   "outputs": [],
   "source": [
    "# Update with global parameters\n",
    "pm.update( config.pm )"
   ]
  },
  {
   "cell_type": "markdown",
   "id": "12100185-1f6b-414f-a299-4c5dd647ff48",
   "metadata": {},
   "source": [
    "# New York Times data"
   ]
  },
  {
   "cell_type": "code",
   "execution_count": 5,
   "id": "63cb1cec-87a1-4afa-bede-adfc61f4f8fa",
   "metadata": {},
   "outputs": [],
   "source": [
    "from pynytimes import NYTAPI"
   ]
  },
  {
   "cell_type": "markdown",
   "id": "eb734e26-200a-4f2e-92a5-d116f7e2f990",
   "metadata": {},
   "source": [
    "## Retrieve data"
   ]
  },
  {
   "cell_type": "code",
   "execution_count": 6,
   "id": "47f82e6d-e04f-4cf0-8107-e7ac37ec838c",
   "metadata": {},
   "outputs": [],
   "source": [
    "nytapi = NYTAPI( os.environ.get( 'NYTIMES_KEY' ), parse_dates=True )"
   ]
  },
  {
   "cell_type": "code",
   "execution_count": 7,
   "id": "96ce016f-faee-4ad9-b49c-491d44fe8883",
   "metadata": {},
   "outputs": [],
   "source": [
    "# Build a prompt for the API\n",
    "filter_query_prompt = ''\n",
    "for i, organization in enumerate( pm['organizations'] ):\n",
    "    if i != 0:\n",
    "        filter_query_prompt += ' OR '\n",
    "    filter_query_prompt += 'organizations:(\"{}\")'.format( organization )"
   ]
  },
  {
   "cell_type": "code",
   "execution_count": 8,
   "id": "06b53b17-cb58-4917-900c-85d6c72004d5",
   "metadata": {},
   "outputs": [
    {
     "name": "stderr",
     "output_type": "stream",
     "text": [
      "/Users/zhafen/miniconda3/envs/erdos/lib/python3.11/site-packages/pynytimes/helpers/article_search.py:33: UserWarning: Asking for a lot of results, because of rate limits it can take a while.\n",
      "  warnings.warn(\n",
      "/Users/zhafen/miniconda3/envs/erdos/lib/python3.11/site-packages/pynytimes/helpers/article_search.py:40: UserWarning: Asking for more results then the API can provide,loading maximum results.\n",
      "  warnings.warn(\n"
     ]
    }
   ],
   "source": [
    "# Get all results\n",
    "all_results = nytapi.article_search(\n",
    "    query='',\n",
    "    results=pm['n_articles'],\n",
    "    dates={ 'begin':pm['start_date'], 'end':pm['end_date'] },\n",
    "    options={\n",
    "        'fq': filter_query_prompt,\n",
    "    },\n",
    ")"
   ]
  },
  {
   "cell_type": "code",
   "execution_count": 9,
   "id": "fb7468a3-be14-458f-8c5d-f3f4d66bcbfd",
   "metadata": {},
   "outputs": [
    {
     "name": "stdout",
     "output_type": "stream",
     "text": [
      "Retrieved 639 results\n"
     ]
    }
   ],
   "source": [
    "print( 'Retrieved {} results'.format( len( all_results ) ) )"
   ]
  },
  {
   "cell_type": "code",
   "execution_count": 10,
   "id": "eee387c0-d268-4c60-bef8-8435c12f854f",
   "metadata": {},
   "outputs": [],
   "source": [
    "# Filter on organization rank\n",
    "results = []\n",
    "ranks = []\n",
    "for result in all_results:\n",
    "    \n",
    "    append_result = False\n",
    "    rank = np.inf\n",
    "    for keyword in result['keywords']:\n",
    "        is_relevant = (\n",
    "            ( keyword['value'] in pm['organizations'] )\n",
    "            and ( keyword['name'] == 'organizations' )\n",
    "            and ( keyword['rank'] <= pm['required_rank'] )\n",
    "        )\n",
    "        if is_relevant:\n",
    "            append_result = True\n",
    "\n",
    "            # Keep the lowest (most-relevant) rank\n",
    "            if keyword['rank'] < rank:\n",
    "                rank = keyword['rank']\n",
    "\n",
    "    if append_result:\n",
    "        results.append( result )\n",
    "        ranks.append( rank )"
   ]
  },
  {
   "cell_type": "code",
   "execution_count": 11,
   "id": "defcb52e-9b53-41ff-887b-ab8b7f4d66e9",
   "metadata": {},
   "outputs": [
    {
     "name": "stdout",
     "output_type": "stream",
     "text": [
      "Filtered down to 270 retrieved results\n"
     ]
    }
   ],
   "source": [
    "print( 'Filtered down to {} retrieved results'.format( len( results ) ) )"
   ]
  },
  {
   "cell_type": "code",
   "execution_count": 12,
   "id": "40e3a5d7-56f2-49aa-9663-77dbcdee3da6",
   "metadata": {},
   "outputs": [],
   "source": [
    "# Create storage dictionary\n",
    "nyt_data = {\n",
    "    'pub_date': [],\n",
    "    'word_count': [],\n",
    "    'type_of_material': [],\n",
    "    '_id': [],\n",
    "}\n",
    "for column in pm['text_columns']:\n",
    "    nyt_data[column] = []"
   ]
  },
  {
   "cell_type": "code",
   "execution_count": 13,
   "id": "504efb80-9884-42bf-b558-02b767e68ec9",
   "metadata": {},
   "outputs": [],
   "source": [
    "# Collect\n",
    "for i, result in enumerate( results ):\n",
    "    for column in nyt_data.keys():\n",
    "        \n",
    "        # Parse column\n",
    "        if '.' in column:\n",
    "            column_keys = column.split( '.' )\n",
    "            column_val = result[column_keys[0]][column_keys[1]]\n",
    "        else:\n",
    "            column_val = result[column]\n",
    "            \n",
    "        # Store\n",
    "        nyt_data[column].append( column_val )"
   ]
  },
  {
   "cell_type": "code",
   "execution_count": 14,
   "id": "0242f108-2667-488b-a92d-70f115d0317c",
   "metadata": {},
   "outputs": [],
   "source": [
    "# Turn into a dataframe\n",
    "nyt = pd.DataFrame( nyt_data )"
   ]
  },
  {
   "cell_type": "code",
   "execution_count": 15,
   "id": "d32c2561-8ebd-4d58-a114-2b0122ae51df",
   "metadata": {},
   "outputs": [],
   "source": [
    "# Collect the full string\n",
    "nyt['text'] = ( nyt[pm['text_columns']] + ' ' ).sum( axis=1 )"
   ]
  },
  {
   "cell_type": "code",
   "execution_count": 16,
   "id": "88ec0b78-45b7-4cf6-a30a-280c3eb01de0",
   "metadata": {},
   "outputs": [],
   "source": [
    "# Store relvancy\n",
    "nyt['relevance_rank'] = ranks"
   ]
  },
  {
   "cell_type": "code",
   "execution_count": 17,
   "id": "3ca137ff-41e2-4bfb-93f9-7bc32353cd83",
   "metadata": {},
   "outputs": [
    {
     "data": {
      "text/html": [
       "<div>\n",
       "<style scoped>\n",
       "    .dataframe tbody tr th:only-of-type {\n",
       "        vertical-align: middle;\n",
       "    }\n",
       "\n",
       "    .dataframe tbody tr th {\n",
       "        vertical-align: top;\n",
       "    }\n",
       "\n",
       "    .dataframe thead th {\n",
       "        text-align: right;\n",
       "    }\n",
       "</style>\n",
       "<table border=\"1\" class=\"dataframe\">\n",
       "  <thead>\n",
       "    <tr style=\"text-align: right;\">\n",
       "      <th></th>\n",
       "      <th>pub_date</th>\n",
       "      <th>word_count</th>\n",
       "      <th>type_of_material</th>\n",
       "      <th>_id</th>\n",
       "      <th>abstract</th>\n",
       "      <th>lead_paragraph</th>\n",
       "      <th>snippet</th>\n",
       "      <th>headline.main</th>\n",
       "      <th>text</th>\n",
       "      <th>relevance_rank</th>\n",
       "    </tr>\n",
       "  </thead>\n",
       "  <tbody>\n",
       "    <tr>\n",
       "      <th>0</th>\n",
       "      <td>2020-10-15 20:10:10+00:00</td>\n",
       "      <td>438</td>\n",
       "      <td>News</td>\n",
       "      <td>nyt://article/02669a7b-5dfa-5c38-92bc-10ebcc39...</td>\n",
       "      <td>Facebook and Twitter clamped down on an unsubs...</td>\n",
       "      <td>In all the uproar over how tech companies have...</td>\n",
       "      <td>Facebook and Twitter clamped down on an unsubs...</td>\n",
       "      <td>In Hubbub Over New York Post Report, YouTube S...</td>\n",
       "      <td>Facebook and Twitter clamped down on an unsubs...</td>\n",
       "      <td>4</td>\n",
       "    </tr>\n",
       "    <tr>\n",
       "      <th>1</th>\n",
       "      <td>2021-08-31 17:07:21+00:00</td>\n",
       "      <td>191</td>\n",
       "      <td>News</td>\n",
       "      <td>nyt://article/026a2f96-48f3-5896-916e-badc358d...</td>\n",
       "      <td>It is the latest company to push back plans fo...</td>\n",
       "      <td>Google is pushing back its return-to-office da...</td>\n",
       "      <td>It is the latest company to push back plans fo...</td>\n",
       "      <td>Google delays its return to office until January.</td>\n",
       "      <td>It is the latest company to push back plans fo...</td>\n",
       "      <td>4</td>\n",
       "    </tr>\n",
       "    <tr>\n",
       "      <th>2</th>\n",
       "      <td>2021-04-12 16:50:18+00:00</td>\n",
       "      <td>607</td>\n",
       "      <td>Letter</td>\n",
       "      <td>nyt://article/02b7abdf-e925-5941-b577-9c2737ba...</td>\n",
       "      <td>Readers discuss formative experiences in the w...</td>\n",
       "      <td>To the Editor:</td>\n",
       "      <td>Readers discuss formative experiences in the w...</td>\n",
       "      <td>My Job and I: Is This a Love Letter?</td>\n",
       "      <td>Readers discuss formative experiences in the w...</td>\n",
       "      <td>1</td>\n",
       "    </tr>\n",
       "    <tr>\n",
       "      <th>3</th>\n",
       "      <td>2020-10-21 11:56:39+00:00</td>\n",
       "      <td>2057</td>\n",
       "      <td>News</td>\n",
       "      <td>nyt://article/0322b0d5-4d0a-50bf-93f5-2fe37e9d...</td>\n",
       "      <td>What you need to know about the antitrust case...</td>\n",
       "      <td>This Nov. 17 and 18, DealBook opens its doors ...</td>\n",
       "      <td>What you need to know about the antitrust case...</td>\n",
       "      <td>What Did Google Do?</td>\n",
       "      <td>What you need to know about the antitrust case...</td>\n",
       "      <td>2</td>\n",
       "    </tr>\n",
       "    <tr>\n",
       "      <th>4</th>\n",
       "      <td>2020-06-04 22:04:38+00:00</td>\n",
       "      <td>1268</td>\n",
       "      <td>News</td>\n",
       "      <td>nyt://article/044a14cb-41a2-54a5-aef6-273f5b33...</td>\n",
       "      <td>To placate European regulators, the company st...</td>\n",
       "      <td>OAKLAND, Calif. — For the last few months, som...</td>\n",
       "      <td>To placate European regulators, the company st...</td>\n",
       "      <td>Google’s European Search Menu Draws Interest o...</td>\n",
       "      <td>To placate European regulators, the company st...</td>\n",
       "      <td>1</td>\n",
       "    </tr>\n",
       "    <tr>\n",
       "      <th>...</th>\n",
       "      <td>...</td>\n",
       "      <td>...</td>\n",
       "      <td>...</td>\n",
       "      <td>...</td>\n",
       "      <td>...</td>\n",
       "      <td>...</td>\n",
       "      <td>...</td>\n",
       "      <td>...</td>\n",
       "      <td>...</td>\n",
       "      <td>...</td>\n",
       "    </tr>\n",
       "    <tr>\n",
       "      <th>265</th>\n",
       "      <td>2020-07-29 20:45:40+00:00</td>\n",
       "      <td>0</td>\n",
       "      <td>Video</td>\n",
       "      <td>nyt://video/986e21d2-1b3b-5fc5-9f3c-fa9509244c78</td>\n",
       "      <td>Sundar Pichai, Google’s chief executive, faced...</td>\n",
       "      <td>Sundar Pichai, Google’s chief executive, faced...</td>\n",
       "      <td>Sundar Pichai, Google’s chief executive, faced...</td>\n",
       "      <td>‘Very Easy For Users to Be In Control of Their...</td>\n",
       "      <td>Sundar Pichai, Google’s chief executive, faced...</td>\n",
       "      <td>3</td>\n",
       "    </tr>\n",
       "    <tr>\n",
       "      <th>266</th>\n",
       "      <td>2020-11-17 14:29:45+00:00</td>\n",
       "      <td>0</td>\n",
       "      <td>Video</td>\n",
       "      <td>nyt://video/99e855a0-bb31-5542-8cfd-305d00cd34c1</td>\n",
       "      <td>The executives, who have now testified several...</td>\n",
       "      <td>The executives, who have now testified several...</td>\n",
       "      <td>The executives, who have now testified several...</td>\n",
       "      <td>Watch Full Video: Tech C.E.O.’s Testify Before...</td>\n",
       "      <td>The executives, who have now testified several...</td>\n",
       "      <td>3</td>\n",
       "    </tr>\n",
       "    <tr>\n",
       "      <th>267</th>\n",
       "      <td>2020-10-28 18:44:42+00:00</td>\n",
       "      <td>0</td>\n",
       "      <td>Video</td>\n",
       "      <td>nyt://video/a3d76cb1-e166-5616-b6db-8d49b14a1a4c</td>\n",
       "      <td>On Wednesday, the chief executives of Facebook...</td>\n",
       "      <td>On Wednesday, the chief executives of Facebook...</td>\n",
       "      <td>On Wednesday, the chief executives of Facebook...</td>\n",
       "      <td>Facebook, Google and Twitter C.E.O.s Testify a...</td>\n",
       "      <td>On Wednesday, the chief executives of Facebook...</td>\n",
       "      <td>2</td>\n",
       "    </tr>\n",
       "    <tr>\n",
       "      <th>268</th>\n",
       "      <td>2020-07-29 15:16:19+00:00</td>\n",
       "      <td>0</td>\n",
       "      <td>Video</td>\n",
       "      <td>nyt://video/be70fdbe-80fb-5683-9758-8ef052cf7dbb</td>\n",
       "      <td>Jeff Bezos of Amazon, Tim Cook of Apple, Mark ...</td>\n",
       "      <td>Jeff Bezos of Amazon, Tim Cook of Apple, Mark ...</td>\n",
       "      <td>Jeff Bezos of Amazon, Tim Cook of Apple, Mark ...</td>\n",
       "      <td>Watch Live: Tech C.E.O.s Testify Before Congress</td>\n",
       "      <td>Jeff Bezos of Amazon, Tim Cook of Apple, Mark ...</td>\n",
       "      <td>3</td>\n",
       "    </tr>\n",
       "    <tr>\n",
       "      <th>269</th>\n",
       "      <td>2020-10-28 13:30:58+00:00</td>\n",
       "      <td>0</td>\n",
       "      <td>Video</td>\n",
       "      <td>nyt://video/fad627b0-ea74-5786-965a-deaa86a1ed12</td>\n",
       "      <td>Executives from Facebook, Twitter and Google t...</td>\n",
       "      <td>Executives from Facebook, Twitter and Google t...</td>\n",
       "      <td>Executives from Facebook, Twitter and Google t...</td>\n",
       "      <td>Watch Full Video: Tech C.E.O.s Testify Before ...</td>\n",
       "      <td>Executives from Facebook, Twitter and Google t...</td>\n",
       "      <td>2</td>\n",
       "    </tr>\n",
       "  </tbody>\n",
       "</table>\n",
       "<p>270 rows × 10 columns</p>\n",
       "</div>"
      ],
      "text/plain": [
       "                     pub_date  word_count type_of_material  \\\n",
       "0   2020-10-15 20:10:10+00:00         438             News   \n",
       "1   2021-08-31 17:07:21+00:00         191             News   \n",
       "2   2021-04-12 16:50:18+00:00         607           Letter   \n",
       "3   2020-10-21 11:56:39+00:00        2057             News   \n",
       "4   2020-06-04 22:04:38+00:00        1268             News   \n",
       "..                        ...         ...              ...   \n",
       "265 2020-07-29 20:45:40+00:00           0            Video   \n",
       "266 2020-11-17 14:29:45+00:00           0            Video   \n",
       "267 2020-10-28 18:44:42+00:00           0            Video   \n",
       "268 2020-07-29 15:16:19+00:00           0            Video   \n",
       "269 2020-10-28 13:30:58+00:00           0            Video   \n",
       "\n",
       "                                                   _id  \\\n",
       "0    nyt://article/02669a7b-5dfa-5c38-92bc-10ebcc39...   \n",
       "1    nyt://article/026a2f96-48f3-5896-916e-badc358d...   \n",
       "2    nyt://article/02b7abdf-e925-5941-b577-9c2737ba...   \n",
       "3    nyt://article/0322b0d5-4d0a-50bf-93f5-2fe37e9d...   \n",
       "4    nyt://article/044a14cb-41a2-54a5-aef6-273f5b33...   \n",
       "..                                                 ...   \n",
       "265   nyt://video/986e21d2-1b3b-5fc5-9f3c-fa9509244c78   \n",
       "266   nyt://video/99e855a0-bb31-5542-8cfd-305d00cd34c1   \n",
       "267   nyt://video/a3d76cb1-e166-5616-b6db-8d49b14a1a4c   \n",
       "268   nyt://video/be70fdbe-80fb-5683-9758-8ef052cf7dbb   \n",
       "269   nyt://video/fad627b0-ea74-5786-965a-deaa86a1ed12   \n",
       "\n",
       "                                              abstract  \\\n",
       "0    Facebook and Twitter clamped down on an unsubs...   \n",
       "1    It is the latest company to push back plans fo...   \n",
       "2    Readers discuss formative experiences in the w...   \n",
       "3    What you need to know about the antitrust case...   \n",
       "4    To placate European regulators, the company st...   \n",
       "..                                                 ...   \n",
       "265  Sundar Pichai, Google’s chief executive, faced...   \n",
       "266  The executives, who have now testified several...   \n",
       "267  On Wednesday, the chief executives of Facebook...   \n",
       "268  Jeff Bezos of Amazon, Tim Cook of Apple, Mark ...   \n",
       "269  Executives from Facebook, Twitter and Google t...   \n",
       "\n",
       "                                        lead_paragraph  \\\n",
       "0    In all the uproar over how tech companies have...   \n",
       "1    Google is pushing back its return-to-office da...   \n",
       "2                                       To the Editor:   \n",
       "3    This Nov. 17 and 18, DealBook opens its doors ...   \n",
       "4    OAKLAND, Calif. — For the last few months, som...   \n",
       "..                                                 ...   \n",
       "265  Sundar Pichai, Google’s chief executive, faced...   \n",
       "266  The executives, who have now testified several...   \n",
       "267  On Wednesday, the chief executives of Facebook...   \n",
       "268  Jeff Bezos of Amazon, Tim Cook of Apple, Mark ...   \n",
       "269  Executives from Facebook, Twitter and Google t...   \n",
       "\n",
       "                                               snippet  \\\n",
       "0    Facebook and Twitter clamped down on an unsubs...   \n",
       "1    It is the latest company to push back plans fo...   \n",
       "2    Readers discuss formative experiences in the w...   \n",
       "3    What you need to know about the antitrust case...   \n",
       "4    To placate European regulators, the company st...   \n",
       "..                                                 ...   \n",
       "265  Sundar Pichai, Google’s chief executive, faced...   \n",
       "266  The executives, who have now testified several...   \n",
       "267  On Wednesday, the chief executives of Facebook...   \n",
       "268  Jeff Bezos of Amazon, Tim Cook of Apple, Mark ...   \n",
       "269  Executives from Facebook, Twitter and Google t...   \n",
       "\n",
       "                                         headline.main  \\\n",
       "0    In Hubbub Over New York Post Report, YouTube S...   \n",
       "1    Google delays its return to office until January.   \n",
       "2                 My Job and I: Is This a Love Letter?   \n",
       "3                                  What Did Google Do?   \n",
       "4    Google’s European Search Menu Draws Interest o...   \n",
       "..                                                 ...   \n",
       "265  ‘Very Easy For Users to Be In Control of Their...   \n",
       "266  Watch Full Video: Tech C.E.O.’s Testify Before...   \n",
       "267  Facebook, Google and Twitter C.E.O.s Testify a...   \n",
       "268   Watch Live: Tech C.E.O.s Testify Before Congress   \n",
       "269  Watch Full Video: Tech C.E.O.s Testify Before ...   \n",
       "\n",
       "                                                  text  relevance_rank  \n",
       "0    Facebook and Twitter clamped down on an unsubs...               4  \n",
       "1    It is the latest company to push back plans fo...               4  \n",
       "2    Readers discuss formative experiences in the w...               1  \n",
       "3    What you need to know about the antitrust case...               2  \n",
       "4    To placate European regulators, the company st...               1  \n",
       "..                                                 ...             ...  \n",
       "265  Sundar Pichai, Google’s chief executive, faced...               3  \n",
       "266  The executives, who have now testified several...               3  \n",
       "267  On Wednesday, the chief executives of Facebook...               2  \n",
       "268  Jeff Bezos of Amazon, Tim Cook of Apple, Mark ...               3  \n",
       "269  Executives from Facebook, Twitter and Google t...               2  \n",
       "\n",
       "[270 rows x 10 columns]"
      ]
     },
     "execution_count": 17,
     "metadata": {},
     "output_type": "execute_result"
    }
   ],
   "source": [
    "nyt"
   ]
  },
  {
   "cell_type": "markdown",
   "id": "c364b88d-83eb-43cd-9549-24a017688b88",
   "metadata": {},
   "source": [
    "## Filter data\n",
    "Some of the text columns don't mention google *enough* times. This portion of the notebook removes those rows.\n",
    "\n",
    "We need to import the library in the cell below in order to use the word_count function."
   ]
  },
  {
   "cell_type": "code",
   "execution_count": 18,
   "id": "21a23f01-b3f4-4ee4-9f92-661f5e1c8c96",
   "metadata": {},
   "outputs": [],
   "source": [
    "from textblob import TextBlob"
   ]
  },
  {
   "cell_type": "code",
   "execution_count": 19,
   "id": "ffcea7a4",
   "metadata": {
    "scrolled": true
   },
   "outputs": [
    {
     "name": "stderr",
     "output_type": "stream",
     "text": [
      "[nltk_data] Downloading package punkt to /Users/zhafen/nltk_data...\n",
      "[nltk_data]   Package punkt is already up-to-date!\n"
     ]
    },
    {
     "data": {
      "text/plain": [
       "True"
      ]
     },
     "execution_count": 19,
     "metadata": {},
     "output_type": "execute_result"
    }
   ],
   "source": [
    "import nltk\n",
    "nltk.download('punkt')"
   ]
  },
  {
   "cell_type": "code",
   "execution_count": 20,
   "id": "df7615be-b8a7-4a16-acfd-ca949c00ed23",
   "metadata": {},
   "outputs": [],
   "source": [
    "# Count keyword mentions\n",
    "inds_to_drop = []\n",
    "keyword_counts = []\n",
    "for i in range (len(nyt['text'])):\n",
    "    blob = TextBlob(nyt.loc[i,'text'])\n",
    "    keyword_count = blob.word_counts[pm['keyword']]\n",
    "    keyword_counts.append( keyword_count )\n",
    "    if keyword_count < pm['required_mentions']:\n",
    "        inds_to_drop.append( i )\n",
    "nyt['keyword_counts'] = keyword_counts"
   ]
  },
  {
   "cell_type": "code",
   "execution_count": 21,
   "id": "1dbbfbe1-20ea-4bcb-87c0-371077d3c2bb",
   "metadata": {},
   "outputs": [],
   "source": [
    "# Drop keywords with an insufficient number of mentions\n",
    "nyt.drop( inds_to_drop, inplace=True )"
   ]
  },
  {
   "cell_type": "markdown",
   "id": "38011d69-cded-429c-994d-ac75d3d6e32e",
   "metadata": {},
   "source": [
    "## Sentiment analysis\n"
   ]
  },
  {
   "cell_type": "markdown",
   "id": "da3c7b06-05de-4af1-af74-10e47dcdcc2c",
   "metadata": {},
   "source": [
    "### TextBlob\n",
    "Here, we are using textblob as our sentiment analysis tool. We are taking data from the text column of the data frame and outputting both polarity and subjectivity for each article. At the end, we are combining it into one single dataframe."
   ]
  },
  {
   "cell_type": "code",
   "execution_count": 22,
   "id": "7232bfb9",
   "metadata": {},
   "outputs": [],
   "source": [
    "from textblob import TextBlob"
   ]
  },
  {
   "cell_type": "code",
   "execution_count": 23,
   "id": "15bf35ae",
   "metadata": {},
   "outputs": [],
   "source": [
    "pol_vec = []\n",
    "subj_vec = []\n",
    "for i in range (len(nyt['text'])):\n",
    "    blob = TextBlob(nyt['text'][i])\n",
    "    pol = blob.sentiment.polarity\n",
    "    subj = blob.sentiment.subjectivity\n",
    "    pol_vec.append(pol)\n",
    "    subj_vec.append(subj)\n",
    "    \n",
    "    "
   ]
  },
  {
   "cell_type": "code",
   "execution_count": 24,
   "id": "3af1149c",
   "metadata": {},
   "outputs": [],
   "source": [
    "d = {'polarity': pol_vec, 'subjectivity': subj_vec}\n",
    "t = pd.DataFrame(data=d)"
   ]
  },
  {
   "cell_type": "code",
   "execution_count": 25,
   "id": "f454d2e7",
   "metadata": {},
   "outputs": [
    {
     "data": {
      "text/html": [
       "<div>\n",
       "<style scoped>\n",
       "    .dataframe tbody tr th:only-of-type {\n",
       "        vertical-align: middle;\n",
       "    }\n",
       "\n",
       "    .dataframe tbody tr th {\n",
       "        vertical-align: top;\n",
       "    }\n",
       "\n",
       "    .dataframe thead th {\n",
       "        text-align: right;\n",
       "    }\n",
       "</style>\n",
       "<table border=\"1\" class=\"dataframe\">\n",
       "  <thead>\n",
       "    <tr style=\"text-align: right;\">\n",
       "      <th></th>\n",
       "      <th>polarity</th>\n",
       "      <th>subjectivity</th>\n",
       "    </tr>\n",
       "  </thead>\n",
       "  <tbody>\n",
       "    <tr>\n",
       "      <th>0</th>\n",
       "      <td>0.032983</td>\n",
       "      <td>0.455107</td>\n",
       "    </tr>\n",
       "    <tr>\n",
       "      <th>1</th>\n",
       "      <td>0.228000</td>\n",
       "      <td>0.482000</td>\n",
       "    </tr>\n",
       "    <tr>\n",
       "      <th>2</th>\n",
       "      <td>0.500000</td>\n",
       "      <td>0.600000</td>\n",
       "    </tr>\n",
       "    <tr>\n",
       "      <th>3</th>\n",
       "      <td>0.306250</td>\n",
       "      <td>0.682292</td>\n",
       "    </tr>\n",
       "    <tr>\n",
       "      <th>4</th>\n",
       "      <td>-0.023580</td>\n",
       "      <td>0.137027</td>\n",
       "    </tr>\n",
       "    <tr>\n",
       "      <th>...</th>\n",
       "      <td>...</td>\n",
       "      <td>...</td>\n",
       "    </tr>\n",
       "    <tr>\n",
       "      <th>265</th>\n",
       "      <td>0.563333</td>\n",
       "      <td>1.000000</td>\n",
       "    </tr>\n",
       "    <tr>\n",
       "      <th>266</th>\n",
       "      <td>0.075909</td>\n",
       "      <td>0.266364</td>\n",
       "    </tr>\n",
       "    <tr>\n",
       "      <th>267</th>\n",
       "      <td>0.400000</td>\n",
       "      <td>0.800000</td>\n",
       "    </tr>\n",
       "    <tr>\n",
       "      <th>268</th>\n",
       "      <td>0.136364</td>\n",
       "      <td>0.500000</td>\n",
       "    </tr>\n",
       "    <tr>\n",
       "      <th>269</th>\n",
       "      <td>0.350000</td>\n",
       "      <td>0.550000</td>\n",
       "    </tr>\n",
       "  </tbody>\n",
       "</table>\n",
       "<p>270 rows × 2 columns</p>\n",
       "</div>"
      ],
      "text/plain": [
       "     polarity  subjectivity\n",
       "0    0.032983      0.455107\n",
       "1    0.228000      0.482000\n",
       "2    0.500000      0.600000\n",
       "3    0.306250      0.682292\n",
       "4   -0.023580      0.137027\n",
       "..        ...           ...\n",
       "265  0.563333      1.000000\n",
       "266  0.075909      0.266364\n",
       "267  0.400000      0.800000\n",
       "268  0.136364      0.500000\n",
       "269  0.350000      0.550000\n",
       "\n",
       "[270 rows x 2 columns]"
      ]
     },
     "metadata": {},
     "output_type": "display_data"
    }
   ],
   "source": [
    "display(t)"
   ]
  },
  {
   "cell_type": "code",
   "execution_count": 26,
   "id": "0e76be3b",
   "metadata": {},
   "outputs": [],
   "source": [
    "nyt = pd.concat([nyt,t], axis=1)"
   ]
  },
  {
   "cell_type": "markdown",
   "id": "70891136-18ee-4e65-b1df-926b0b10ac7e",
   "metadata": {},
   "source": [
    "### distilRoberta-financial-sentiment\n",
    "See https://huggingface.co/mrm8488/distilroberta-finetuned-financial-news-sentiment-analysis"
   ]
  },
  {
   "cell_type": "code",
   "execution_count": null,
   "id": "75f80973-c256-43d9-9293-b0b29117d9eb",
   "metadata": {},
   "outputs": [],
   "source": [
    "\n",
    "## initializing the new model and tokenizer\n",
    "\n",
    "from transformers import AutoTokenizer, AutoModelForSequenceClassification\n",
    "\n",
    "tokenizer_fin = AutoTokenizer.from_pretrained(\"mrm8488/distilroberta-finetuned-financial-news-sentiment-analysis\")\n",
    "\n",
    "model_fin = AutoModelForSequenceClassification.from_pretrained(\"mrm8488/distilroberta-finetuned-financial-news-sentiment-analysis\")"
   ]
  },
  {
   "cell_type": "code",
   "execution_count": null,
   "id": "21dcbd9a-91a8-4a3c-997e-7650600037cd",
   "metadata": {},
   "outputs": [],
   "source": [
    "# Sentiment analysis pipeline with the new model and tokenizer\n",
    "from transformers import pipeline\n",
    "\n",
    "analyzer_fin = pipeline(\"sentiment-analysis\", model= model_fin , tokenizer = tokenizer_fin)"
   ]
  },
  {
   "cell_type": "code",
   "execution_count": null,
   "id": "726c239e-2a34-42c1-98dc-b7a2ed6d245a",
   "metadata": {},
   "outputs": [],
   "source": [
    "## Apply analyzer_fin pipeline to the text of each article and recording the sentiment scores in a new column\n",
    "\n",
    "# initialize a list to store the sentiment scores\n",
    "sentiment_scores = []\n",
    "\n",
    "# loop through each article\n",
    "for text in nyt['text']:\n",
    "    # apply the sentiment analysis pipeline to the abstract\n",
    "    sentiment_scores.append(analyzer(text)[0].get('score'))\n",
    "    \n",
    "# add the sentiment scores to the media data\n",
    "nyt['NLP_fin-sentiment-text'] = sentiment_scores\n",
    "\n",
    "\n",
    "nyt.describe()"
   ]
  },
  {
   "cell_type": "code",
   "execution_count": null,
   "id": "d27ffab6-6c01-4e7b-9acb-c7d47ddbc04a",
   "metadata": {},
   "outputs": [],
   "source": [
    "## looking at the articles with the highest and lowest NLP_fin-sentiment-text scores\n",
    "max_score = nyt['NLP_fin-sentiment-text'].max()\n",
    "min_score = nyt['NLP_fin-sentiment-text'].min()\n",
    "\n",
    "## display the articles with the highest and lowest nlp_sentiment_scores\n",
    "articles_with_max_score = nyt[nyt['NLP_fin-sentiment-text'] == max_score]\n",
    "articles_with_min_score = nyt[nyt['NLP_fin-sentiment-text'] == min_score]\n",
    "\n",
    "print(\"Article with the highest sentiment score was: \\n'{}' with score {}, \\n and the lowest sentiment score was: \\n'{}' with score {}\".format(articles_with_max_score['headline.main'].values[0], max_score, articles_with_min_score['headline.main'].values[0], min_score))"
   ]
  },
  {
   "cell_type": "code",
   "execution_count": null,
   "id": "6a7b36d4-3143-4ada-a9e4-6feaa7651a38",
   "metadata": {},
   "outputs": [],
   "source": [
    "## plot a distogram of the NLP_fin-sentiment-text column vs its frequency\n",
    "import matplotlib.pyplot as plt\n",
    "import seaborn as sns\n",
    "sns.set_style( 'whitegrid' )\n",
    "\n",
    "# set the plot size\n",
    "plt.figure(figsize=(10, 6))\n",
    "\n",
    "# plot a histogram of the NLP_fin-sentiment-text column\n",
    "sns.distplot(nyt['NLP_fin-sentiment-text'])\n",
    "\n",
    "# set the title and labels\n",
    "plt.title('Histogram of NLP_fin sentiment score')\n",
    "plt.xlabel('NLP_fin sentiment score')\n",
    "plt.ylabel('Frequency')"
   ]
  },
  {
   "cell_type": "code",
   "execution_count": null,
   "id": "7a6c7dcf-0eed-42b3-ab79-827043504690",
   "metadata": {},
   "outputs": [],
   "source": [
    "## adjusting the polarity scores to be between 0 and 1 (assume uniform distribution)\n",
    "\n",
    "# initialize a list to store the adjusted sentiment scores\n",
    "adjusted_polarity_scores = []\n",
    "\n",
    "# loop through each sentiment score\n",
    "for score in nyt['Polarity']:\n",
    "    # adjust the sentiment score\n",
    "    adjusted_polarity_scores.append((score + 1)/2)\n",
    "\n",
    "# add the adjusted sentiment scores to the media data\n",
    "nyt['adjusted_polarity'] = adjusted_polarity_scores"
   ]
  },
  {
   "cell_type": "markdown",
   "id": "284f086e-f010-404f-8ef1-bd7373dfe60b",
   "metadata": {},
   "source": [
    "## Save data"
   ]
  },
  {
   "cell_type": "code",
   "execution_count": 49,
   "id": "2963563f-f76c-4fd2-a852-c213056f0340",
   "metadata": {},
   "outputs": [],
   "source": [
    "# Split into train and test\n",
    "is_training = nyt['pub_date'] < pd.to_datetime( pm['start_date_test'], utc=True )\n",
    "is_test = np.invert( is_training )"
   ]
  },
  {
   "cell_type": "code",
   "execution_count": 50,
   "id": "8e237b54-ed3f-45f6-8eb2-db6f9cd9d982",
   "metadata": {},
   "outputs": [],
   "source": [
    "nyt.loc[is_training].to_csv( '../data/train/media.csv' )\n",
    "nyt.loc[is_test].to_csv( '../data/test/media.csv' )"
   ]
  },
  {
   "cell_type": "markdown",
   "id": "b597bf91-99d5-4656-8705-3f5e3aa971ca",
   "metadata": {},
   "source": [
    "# YFinance data"
   ]
  },
  {
   "cell_type": "code",
   "execution_count": 27,
   "id": "f5387d5f-8c13-438e-86b6-b89404d905c6",
   "metadata": {},
   "outputs": [],
   "source": [
    "import yfinance as yf"
   ]
  },
  {
   "cell_type": "markdown",
   "id": "be58460d-6b54-4d97-b64e-e7205641468d",
   "metadata": {},
   "source": [
    "## Retrieve data"
   ]
  },
  {
   "cell_type": "code",
   "execution_count": 36,
   "id": "73f6e8ea-7997-4754-a470-cc6be7c64a6f",
   "metadata": {},
   "outputs": [],
   "source": [
    "yticker = yf.Ticker( pm['ticker'] )"
   ]
  },
  {
   "cell_type": "code",
   "execution_count": 38,
   "id": "fd7c8bbf-7dc4-4a98-81d9-e00831aba435",
   "metadata": {},
   "outputs": [],
   "source": [
    "history = yticker.history(\n",
    "    start = pm['start_date'],\n",
    "    end = pm['end_date'],\n",
    ")"
   ]
  },
  {
   "cell_type": "markdown",
   "id": "0bc33f8d-89e4-47d1-b563-ed4a01fb33cf",
   "metadata": {},
   "source": [
    "## Add an adjusted close column\n",
    "This more-closely tracks the actual stock value. In many cases it's identical to close."
   ]
  },
  {
   "cell_type": "code",
   "execution_count": 39,
   "id": "3bd14c59-a4f0-4a5a-b6e4-48d9e27dba70",
   "metadata": {},
   "outputs": [],
   "source": [
    "history['AdjClose'] = history['Close'] - history['Dividends'] - history['Stock Splits']"
   ]
  },
  {
   "cell_type": "markdown",
   "id": "29706816-0699-4359-82d3-2c36aa0c18b9",
   "metadata": {},
   "source": [
    "## Save data"
   ]
  },
  {
   "cell_type": "code",
   "execution_count": 42,
   "id": "c4037086-85ec-46a4-a9d3-3ff146b98746",
   "metadata": {},
   "outputs": [],
   "source": [
    "# Split into train and test\n",
    "is_training = history.index < pd.to_datetime( pm['start_date_test'], utc=True )\n",
    "is_test = np.invert( is_training )"
   ]
  },
  {
   "cell_type": "code",
   "execution_count": 43,
   "id": "868f766d-ef1a-4f2d-baf4-16822a11d485",
   "metadata": {},
   "outputs": [],
   "source": [
    "history.loc[is_training].to_csv( '../data/train/markets.csv' )\n",
    "history.loc[is_test].to_csv( '../data/test/markets.csv' )"
   ]
  }
 ],
 "metadata": {
  "kernelspec": {
   "display_name": "Python 3 (ipykernel)",
   "language": "python",
   "name": "python3"
  },
  "language_info": {
   "codemirror_mode": {
    "name": "ipython",
    "version": 3
   },
   "file_extension": ".py",
   "mimetype": "text/x-python",
   "name": "python",
   "nbconvert_exporter": "python",
   "pygments_lexer": "ipython3",
   "version": "3.11.3"
  }
 },
 "nbformat": 4,
 "nbformat_minor": 5
}
