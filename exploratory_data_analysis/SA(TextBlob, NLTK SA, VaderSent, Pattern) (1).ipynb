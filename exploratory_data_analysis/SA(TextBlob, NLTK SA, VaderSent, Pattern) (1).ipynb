{
 "cells": [
  {
   "cell_type": "code",
   "execution_count": 28,
   "id": "25e3e8b8",
   "metadata": {},
   "outputs": [
    {
     "name": "stdout",
     "output_type": "stream",
     "text": [
      "Polarity: 0.0\n",
      "Subjectivity: 0.0\n",
      "\n",
      "Polarity: 0.0\n",
      "Subjectivity: 0.35\n",
      "\n",
      "Polarity: -0.3\n",
      "Subjectivity: 0.4\n",
      "\n",
      "Polarity: 0.13636363636363635\n",
      "Subjectivity: 0.45454545454545453\n",
      "\n"
     ]
    }
   ],
   "source": [
    "#Using TextBlob\n",
    "from textblob import TextBlob\n",
    "\n",
    "headlines = [\n",
    "    \"Google’s parent company reported earnings that were below analysts’ expectations\",\n",
    "    \"Economic uncertainty weighs heavily on investor sentiment\",\n",
    "    \"Company XYZ announces layoffs, leading to negative market reaction\",\n",
    "    \"New government policies boost investor confidence\",\n",
    "]\n",
    "\n",
    "# Perform sentiment analysis\n",
    "for headline in headlines:\n",
    "    blob = TextBlob(headline)\n",
    "    sentiment = blob.sentiment\n",
    "    polarity = sentiment.polarity\n",
    "    subjectivity = sentiment.subjectivity\n",
    "\n",
    "    print(f\"Polarity: {polarity}\")\n",
    "    print(f\"Subjectivity: {subjectivity}\")\n",
    "    print()"
   ]
  },
  {
   "cell_type": "code",
   "execution_count": 29,
   "id": "ad92f0c5",
   "metadata": {},
   "outputs": [
    {
     "name": "stdout",
     "output_type": "stream",
     "text": [
      "Sentiment Scores: {'neg': 0.0, 'neu': 1.0, 'pos': 0.0, 'compound': 0.0}\n",
      "\n",
      "Sentiment Scores: {'neg': 0.286, 'neu': 0.714, 'pos': 0.0, 'compound': -0.34}\n",
      "\n",
      "Sentiment Scores: {'neg': 0.316, 'neu': 0.684, 'pos': 0.0, 'compound': -0.5719}\n",
      "\n",
      "Sentiment Scores: {'neg': 0.0, 'neu': 0.4, 'pos': 0.6, 'compound': 0.7184}\n",
      "\n"
     ]
    }
   ],
   "source": [
    "#Using NLTK Sentiment Intensity Analyzer\n",
    "import nltk\n",
    "from nltk.sentiment import SentimentIntensityAnalyzer\n",
    "\n",
    "# Create an instance of the SentimentIntensityAnalyzer\n",
    "sia = SentimentIntensityAnalyzer()\n",
    "\n",
    "# Sample text for sentiment analysis\n",
    "headlines = [\n",
    "    \"Google’s parent company reported earnings that were below analysts’ expectations\",\n",
    "    \"Economic uncertainty weighs heavily on investor sentiment\",\n",
    "    \"Company XYZ announces layoffs, leading to negative market reaction\",\n",
    "    \"New government policies boost investor confidence\",\n",
    "]\n",
    "\n",
    "for headline in headlines:\n",
    "    # Perform sentiment analysis\n",
    "    sentiment_scores = sia.polarity_scores(headline)\n",
    "\n",
    "    # Print the sentiment scores and label\n",
    "    print(\"Sentiment Scores:\", sentiment_scores)\n",
    "    print()"
   ]
  },
  {
   "cell_type": "code",
   "execution_count": 30,
   "id": "0cace8db",
   "metadata": {},
   "outputs": [
    {
     "name": "stdout",
     "output_type": "stream",
     "text": [
      "Headline: Google’s parent company reported earnings that were below analysts’ expectations\n",
      "Sentiment scores: {'neg': 0.0, 'neu': 1.0, 'pos': 0.0, 'compound': 0.0}\n",
      "---\n",
      "Headline: Economic uncertainty weighs heavily on investor sentiment\n",
      "Sentiment scores: {'neg': 0.286, 'neu': 0.714, 'pos': 0.0, 'compound': -0.34}\n",
      "---\n",
      "Headline: Company XYZ announces layoffs, leading to negative market reaction\n",
      "Sentiment scores: {'neg': 0.316, 'neu': 0.684, 'pos': 0.0, 'compound': -0.5719}\n",
      "---\n",
      "Headline: New government policies boost investor confidence\n",
      "Sentiment scores: {'neg': 0.0, 'neu': 0.4, 'pos': 0.6, 'compound': 0.7184}\n",
      "---\n"
     ]
    }
   ],
   "source": [
    "#Using VaderSentiment\n",
    "from vaderSentiment.vaderSentiment import SentimentIntensityAnalyzer\n",
    "\n",
    "# Initialize the sentiment analyzer\n",
    "analyzer = SentimentIntensityAnalyzer()\n",
    "\n",
    "# Sample news headlines\n",
    "headlines = [\n",
    "    \"Google’s parent company reported earnings that were below analysts’ expectations\",\n",
    "    \"Economic uncertainty weighs heavily on investor sentiment\",\n",
    "    \"Company XYZ announces layoffs, leading to negative market reaction\",\n",
    "    \"New government policies boost investor confidence\",\n",
    "]\n",
    "\n",
    "# Perform sentiment analysis on each headline\n",
    "for headline in headlines:\n",
    "    sentiment_scores = analyzer.polarity_scores(headline)\n",
    "    print(f\"Headline: {headline}\")\n",
    "    print(f\"Sentiment scores: {sentiment_scores}\")\n",
    "    print(\"---\")\n"
   ]
  },
  {
   "cell_type": "code",
   "execution_count": 31,
   "id": "1e311823",
   "metadata": {},
   "outputs": [
    {
     "name": "stdout",
     "output_type": "stream",
     "text": [
      "Polarity Score:  0.0\n",
      "Subjectivity Score:  0.0\n",
      "\n",
      "Polarity Score:  0.0\n",
      "Subjectivity Score:  0.35\n",
      "\n",
      "Polarity Score:  -0.3\n",
      "Subjectivity Score:  0.4\n",
      "\n",
      "Polarity Score:  0.13636363636363635\n",
      "Subjectivity Score:  0.45454545454545453\n",
      "\n"
     ]
    }
   ],
   "source": [
    "#Using Pattern\n",
    "from pattern.en import sentiment\n",
    "\n",
    "headlines = [\n",
    "    \"Google’s parent company reported earnings that were below analysts’ expectations\",\n",
    "    \"Economic uncertainty weighs heavily on investor sentiment\",\n",
    "    \"Company XYZ announces layoffs, leading to negative market reaction\",\n",
    "    \"New government policies boost investor confidence\",\n",
    "]\n",
    "\n",
    "for headline in headlines:\n",
    "    # Perform sentiment analysis\n",
    "    polarity, subjectivity = sentiment(headline)\n",
    "\n",
    "\n",
    "    # Print the sentiment analysis results\n",
    "    print(\"Polarity Score: \", polarity)\n",
    "    print(\"Subjectivity Score: \", subjectivity)\n",
    "    print()"
   ]
  }
 ],
 "metadata": {
  "kernelspec": {
   "display_name": "Python 3 (ipykernel)",
   "language": "python",
   "name": "python3"
  },
  "language_info": {
   "codemirror_mode": {
    "name": "ipython",
    "version": 3
   },
   "file_extension": ".py",
   "mimetype": "text/x-python",
   "name": "python",
   "nbconvert_exporter": "python",
   "pygments_lexer": "ipython3",
   "version": "3.9.13"
  }
 },
 "nbformat": 4,
 "nbformat_minor": 5
}
