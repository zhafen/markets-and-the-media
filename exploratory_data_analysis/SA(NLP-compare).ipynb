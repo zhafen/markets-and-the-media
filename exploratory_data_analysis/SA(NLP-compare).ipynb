{
 "cells": [
  {
   "attachments": {},
   "cell_type": "markdown",
   "metadata": {},
   "source": [
    "# Using NLP for sentiment analysis\n",
    "See https://huggingface.co/blog/sentiment-analysis-python.\n",
    "<br> Also, see https://ieeexplore.ieee.org/document/8848203.\n"
   ]
  },
  {
   "cell_type": "markdown",
   "metadata": {},
   "source": [
    "## Loading the data"
   ]
  },
  {
   "cell_type": "code",
   "execution_count": 1,
   "metadata": {},
   "outputs": [],
   "source": [
    "## loading data\n",
    "\n",
    "import pandas as pd\n",
    "\n",
    "media_data = pd.read_csv(\"../test_data/media.csv\", index_col = 0, parse_dates = ['pub_date'])"
   ]
  },
  {
   "cell_type": "code",
   "execution_count": 2,
   "metadata": {},
   "outputs": [
    {
     "name": "stderr",
     "output_type": "stream",
     "text": [
      "/Users/parhamhamidi/opt/anaconda3/envs/NLP/lib/python3.10/site-packages/tqdm/auto.py:21: TqdmWarning: IProgress not found. Please update jupyter and ipywidgets. See https://ipywidgets.readthedocs.io/en/stable/user_install.html\n",
      "  from .autonotebook import tqdm as notebook_tqdm\n"
     ]
    }
   ],
   "source": [
    "from transformers import set_seed\n",
    "\n",
    "set_seed(2023)"
   ]
  },
  {
   "attachments": {},
   "cell_type": "markdown",
   "metadata": {},
   "source": [
    "## Using OPTForCausalLM\n",
    "\n",
    "This is not specifally for sentiment analysis, but it is a good starting point. It is a pretrained model that can be used for text generation. It is a causal language model, which means that it can generate the next word in a sequence of words."
   ]
  },
  {
   "cell_type": "code",
   "execution_count": null,
   "metadata": {},
   "outputs": [],
   "source": [
    "## Initializing the model, tokenize, and the generator pipeline\n",
    "from transformers import AutoTokenizer, AutoModelForCausalLM\n",
    "\n",
    "tokenizer_optCLM = AutoTokenizer.from_pretrained(\"facebook/opt-350m\")\n",
    "\n",
    "model_optCLM = AutoModelForCausalLM.from_pretrained(\"facebook/opt-350m\")\n",
    "\n",
    "from transformers import pipeline\n",
    "\n",
    "generator = pipeline('text-generation', model=\"facebook/opt-350m\")"
   ]
  },
  {
   "cell_type": "code",
   "execution_count": null,
   "metadata": {},
   "outputs": [],
   "source": [
    "## defining a function to generate the text\n",
    "def generate_score_optCLM(text):\n",
    "    promt = f'Rate between -2 and 2, with 2 being the most positive and -2 the most negative.\\nContext: Microsoft is going through harsh financial quarter that made the CEO fire 500 employees.\\nSentiment Analysis: -2\\n\\nRate between -2 and 2, with 2 being the most positive and -2 the most negative.\\nContext: Apple stock will suffer from the battle with Spotify\\nSentiment Analysis: -1\\n\\nRate between -2 and 2, with 2 being the most positive and -2 the most negative.\\nContext: OpenAI staff like Indian food.\\nSentiment Analysis: 0\\n\\nRate between -2 and 2, with 2 being the most positive and -2 the most negative.\\nContext: Twitter is expanding its California branch.\\nSentiment Analysis: 1\\n\\nRate between -2 and 2, with 2 being the most positive and -2 the most negative.\\nContext: IBM stock will go up considerably.\\nSentiment Analysis: 2\\n\\nRate between 1 and 5, with 5 being the most positive and 1 the most negative.\\nContext: {text}\\nSentiment Analysis:'\n",
    "    return generator(promt, max_length=1, num_return_sequences=1)[0].get('generated_text')[-1]"
   ]
  },
  {
   "attachments": {},
   "cell_type": "markdown",
   "metadata": {},
   "source": [
    "Since the prompt cannot be too long, we will use the headline of the article as the prompt."
   ]
  },
  {
   "cell_type": "code",
   "execution_count": null,
   "metadata": {},
   "outputs": [],
   "source": [
    "## Apply generate_score_opt to the text of each article in the media data\n",
    "\n",
    "## initialize a list to store the sentiment scores\n",
    "sentiment_scores = []\n",
    "\n",
    "## loop through each article\n",
    "for headline in media_data['headline.main']:\n",
    "    # apply the sentiment analysis pipeline to the abstract\n",
    "    sentiment_scores.append(generate_score_optCLM(headline))\n",
    "    \n",
    "# add the sentiment scores to the media data\n",
    "media_data['OPT_CLM'] = sentiment_scores"
   ]
  },
  {
   "attachments": {},
   "cell_type": "markdown",
   "metadata": {},
   "source": [
    "## Using OPTForSequenceClassification\n",
    "Using OPTForSequenceClassification as a model. It is a pretrained model that can be used for text classification. It is a sequence classification model, which means that it can classify a sequence of words."
   ]
  },
  {
   "cell_type": "code",
   "execution_count": 3,
   "metadata": {},
   "outputs": [
    {
     "name": "stderr",
     "output_type": "stream",
     "text": [
      "Some weights of OPTForSequenceClassification were not initialized from the model checkpoint at facebook/opt-350m and are newly initialized: ['score.weight']\n",
      "You should probably TRAIN this model on a down-stream task to be able to use it for predictions and inference.\n"
     ]
    }
   ],
   "source": [
    "from transformers import AutoTokenizer, OPTForSequenceClassification\n",
    " \n",
    "# # Initializing a model (with random weights) from the facebook/opt-large style configuration\n",
    "model_optSC = OPTForSequenceClassification.from_pretrained(\"facebook/opt-350m\")\n",
    "\n",
    "# # Initializing an OPT tokenizer\n",
    "tokenizer_optSC = AutoTokenizer.from_pretrained(\"facebook/opt-350m\")"
   ]
  },
  {
   "cell_type": "code",
   "execution_count": 6,
   "metadata": {},
   "outputs": [
    {
     "name": "stderr",
     "output_type": "stream",
     "text": [
      "Xformers is not installed correctly. If you want to use memorry_efficient_attention to accelerate training use the following command to install Xformers\n",
      "pip install xformers.\n"
     ]
    }
   ],
   "source": [
    "## define a pipeline for sentiment analysis\n",
    "from transformers import pipeline\n",
    "\n",
    "analyzer_optSC= pipeline('sentiment-analysis', model= model_optSC, tokenizer= tokenizer_optSC)"
   ]
  },
  {
   "cell_type": "code",
   "execution_count": 7,
   "metadata": {},
   "outputs": [],
   "source": [
    "## make a function that reades the label of the analyzer_opt result\n",
    "## if the label is positive, it returns the analyzer_opt score\n",
    "## if the label is negative, it returns the negative of the analyzer_opt score\n",
    "\n",
    "def analyzer_optSC_score(text):\n",
    "    result = analyzer_optSC(text)\n",
    "    if result[0].get('label') == 'LABEL_0':\n",
    "        return result[0].get('score')\n",
    "    else:\n",
    "        return -result[0].get('score')\n"
   ]
  },
  {
   "cell_type": "code",
   "execution_count": 8,
   "metadata": {},
   "outputs": [],
   "source": [
    "## Apply the sentiment analysis pipeline to the text of each article in the media data\n",
    "\n",
    "# initialize a list to store the sentiment scores\n",
    "sentiment_scores = []\n",
    "\n",
    "# loop through each article\n",
    "for text in media_data['text']:\n",
    "    # apply the sentiment analysis pipeline to the abstract\n",
    "    sentiment_scores.append(analyzer_optSC_score(text))\n",
    "    \n",
    "# add the sentiment scores to the media data\n",
    "media_data['OPT_SC-sentiment'] = sentiment_scores"
   ]
  },
  {
   "cell_type": "code",
   "execution_count": 9,
   "metadata": {},
   "outputs": [
    {
     "name": "stdout",
     "output_type": "stream",
     "text": [
      "Article with the highest sentiment score was: \n",
      "'Elon Musk Faces Another Big Decision at Twitter' with score 0.9984318614006042, \n",
      " and the lowest sentiment score was: \n",
      "'Russia fines Google for failing to remove news it calls ‘fake.’' with score -0.5915974974632263\n"
     ]
    }
   ],
   "source": [
    "## looking at the articles with the highest and lowest OPT_sentiment_scores\n",
    "max_score = media_data['OPT_SC-sentiment'].max()\n",
    "min_score = media_data['OPT_SC-sentiment'].min()\n",
    "\n",
    "## display the articles with the highest and lowest nlp_sentiment_scores\n",
    "articles_with_max_score = media_data[media_data['OPT_SC-sentiment'] == max_score]\n",
    "articles_with_min_score = media_data[media_data['OPT_SC-sentiment'] == min_score]\n",
    "\n",
    "print(\"Article with the highest sentiment score was: \\n'{}' with score {}, \\n and the lowest sentiment score was: \\n'{}' with score {}\".format(articles_with_max_score['headline.main'].values[0], max_score, articles_with_min_score['headline.main'].values[0], min_score))"
   ]
  },
  {
   "cell_type": "code",
   "execution_count": 10,
   "metadata": {},
   "outputs": [
    {
     "data": {
      "text/plain": [
       "count    100.000000\n",
       "mean       0.920451\n",
       "std        0.269688\n",
       "min       -0.591597\n",
       "25%        0.969684\n",
       "50%        0.985380\n",
       "75%        0.992841\n",
       "max        0.998432\n",
       "Name: OPT_SC-sentiment, dtype: float64"
      ]
     },
     "execution_count": 10,
     "metadata": {},
     "output_type": "execute_result"
    }
   ],
   "source": [
    "media_data['OPT_SC-sentiment'].describe()"
   ]
  },
  {
   "attachments": {},
   "cell_type": "markdown",
   "metadata": {},
   "source": [
    "## Using distilRoberta-financial-sentiment\n",
    "See https://huggingface.co/mrm8488/distilroberta-finetuned-financial-news-sentiment-analysis. This model is based in distilRoberta, which is a smaller version of RoBERTa. It is fine-tuned for financial sentiment analysis.\n"
   ]
  },
  {
   "cell_type": "code",
   "execution_count": 11,
   "metadata": {},
   "outputs": [],
   "source": [
    "\n",
    "## initializing the new model and tokenizer\n",
    "\n",
    "from transformers import AutoTokenizer, AutoModelForSequenceClassification\n",
    "\n",
    "tokenizer_fin = AutoTokenizer.from_pretrained(\"mrm8488/distilroberta-finetuned-financial-news-sentiment-analysis\")\n",
    "\n",
    "model_fin = AutoModelForSequenceClassification.from_pretrained(\"mrm8488/distilroberta-finetuned-financial-news-sentiment-analysis\")"
   ]
  },
  {
   "cell_type": "code",
   "execution_count": 12,
   "metadata": {},
   "outputs": [],
   "source": [
    "# Sentiment analysis pipeline with the new model and tokenizer\n",
    "from transformers import pipeline\n",
    "\n",
    "analyzer_fin = pipeline(\"sentiment-analysis\", model= model_fin , tokenizer = tokenizer_fin)"
   ]
  },
  {
   "cell_type": "code",
   "execution_count": 13,
   "metadata": {},
   "outputs": [],
   "source": [
    "## make a function that reades the label of the analyzer_fin result\n",
    "## if the label is positive, it returns the analyzer_fin score\n",
    "## if the label is negative, it returns the negative of the analyzer_fin score\n",
    "\n",
    "def analyzer_fin_score(text):\n",
    "    result = analyzer_fin(text)\n",
    "    if result[0].get('label') == 'positive':\n",
    "        return result[0].get('score')\n",
    "    if result[0].get('label') == 'negative':\n",
    "        return -result[0].get('score')\n",
    "    else:\n",
    "        return 0"
   ]
  },
  {
   "cell_type": "code",
   "execution_count": 14,
   "metadata": {},
   "outputs": [],
   "source": [
    "## make a function that reades the result of analyzer_fin_score\n",
    "## if the score is greater than 0.9 , it returns 2\n",
    "## if the score is between 0.5 and 0.9, it returns 1\n",
    "## if the score is between -0.5 and 0.5, it returns 0\n",
    "## if the score is between -0.9 and -0.5, it returns -1\n",
    "## if the score is less than -0.9, it returns -2\n",
    "\n",
    "def analyzer_fin_bin(text):\n",
    "    score = analyzer_fin_score(text)\n",
    "    if score > 0.9:\n",
    "        return 2\n",
    "    if score > 0.5:\n",
    "        return 1\n",
    "    if score > -0.5:\n",
    "        return 0\n",
    "    if score > -0.9:\n",
    "        return -1\n",
    "    else:\n",
    "        return -2\n"
   ]
  },
  {
   "cell_type": "code",
   "execution_count": 15,
   "metadata": {},
   "outputs": [
    {
     "data": {
      "text/html": [
       "<div>\n",
       "<style scoped>\n",
       "    .dataframe tbody tr th:only-of-type {\n",
       "        vertical-align: middle;\n",
       "    }\n",
       "\n",
       "    .dataframe tbody tr th {\n",
       "        vertical-align: top;\n",
       "    }\n",
       "\n",
       "    .dataframe thead th {\n",
       "        text-align: right;\n",
       "    }\n",
       "</style>\n",
       "<table border=\"1\" class=\"dataframe\">\n",
       "  <thead>\n",
       "    <tr style=\"text-align: right;\">\n",
       "      <th></th>\n",
       "      <th>Polarity</th>\n",
       "      <th>Sentiment</th>\n",
       "      <th>NLP_fin-sentiment-text</th>\n",
       "      <th>OPT_SC-sentiment</th>\n",
       "      <th>NLP_fin-bin</th>\n",
       "    </tr>\n",
       "  </thead>\n",
       "  <tbody>\n",
       "    <tr>\n",
       "      <th>count</th>\n",
       "      <td>100.000000</td>\n",
       "      <td>100.000000</td>\n",
       "      <td>100.000000</td>\n",
       "      <td>100.000000</td>\n",
       "      <td>100.000000</td>\n",
       "    </tr>\n",
       "    <tr>\n",
       "      <th>mean</th>\n",
       "      <td>-0.013616</td>\n",
       "      <td>0.549705</td>\n",
       "      <td>-0.537430</td>\n",
       "      <td>0.920451</td>\n",
       "      <td>-0.070000</td>\n",
       "    </tr>\n",
       "    <tr>\n",
       "      <th>std</th>\n",
       "      <td>0.595266</td>\n",
       "      <td>0.269949</td>\n",
       "      <td>0.790210</td>\n",
       "      <td>0.269688</td>\n",
       "      <td>1.289076</td>\n",
       "    </tr>\n",
       "    <tr>\n",
       "      <th>min</th>\n",
       "      <td>-0.998627</td>\n",
       "      <td>0.029718</td>\n",
       "      <td>-0.999880</td>\n",
       "      <td>-0.591597</td>\n",
       "      <td>-2.000000</td>\n",
       "    </tr>\n",
       "    <tr>\n",
       "      <th>25%</th>\n",
       "      <td>-0.481270</td>\n",
       "      <td>0.315349</td>\n",
       "      <td>-0.998546</td>\n",
       "      <td>0.969684</td>\n",
       "      <td>-1.000000</td>\n",
       "    </tr>\n",
       "    <tr>\n",
       "      <th>50%</th>\n",
       "      <td>-0.021043</td>\n",
       "      <td>0.582934</td>\n",
       "      <td>-0.981465</td>\n",
       "      <td>0.985380</td>\n",
       "      <td>0.000000</td>\n",
       "    </tr>\n",
       "    <tr>\n",
       "      <th>75%</th>\n",
       "      <td>0.522078</td>\n",
       "      <td>0.769434</td>\n",
       "      <td>-0.656894</td>\n",
       "      <td>0.992841</td>\n",
       "      <td>0.000000</td>\n",
       "    </tr>\n",
       "    <tr>\n",
       "      <th>max</th>\n",
       "      <td>0.974263</td>\n",
       "      <td>0.994465</td>\n",
       "      <td>0.999672</td>\n",
       "      <td>0.998432</td>\n",
       "      <td>2.000000</td>\n",
       "    </tr>\n",
       "  </tbody>\n",
       "</table>\n",
       "</div>"
      ],
      "text/plain": [
       "         Polarity   Sentiment  NLP_fin-sentiment-text  OPT_SC-sentiment  \\\n",
       "count  100.000000  100.000000              100.000000        100.000000   \n",
       "mean    -0.013616    0.549705               -0.537430          0.920451   \n",
       "std      0.595266    0.269949                0.790210          0.269688   \n",
       "min     -0.998627    0.029718               -0.999880         -0.591597   \n",
       "25%     -0.481270    0.315349               -0.998546          0.969684   \n",
       "50%     -0.021043    0.582934               -0.981465          0.985380   \n",
       "75%      0.522078    0.769434               -0.656894          0.992841   \n",
       "max      0.974263    0.994465                0.999672          0.998432   \n",
       "\n",
       "       NLP_fin-bin  \n",
       "count   100.000000  \n",
       "mean     -0.070000  \n",
       "std       1.289076  \n",
       "min      -2.000000  \n",
       "25%      -1.000000  \n",
       "50%       0.000000  \n",
       "75%       0.000000  \n",
       "max       2.000000  "
      ]
     },
     "metadata": {},
     "output_type": "display_data"
    }
   ],
   "source": [
    "display(media_data)"
   ]
  },
  {
   "attachments": {},
   "cell_type": "markdown",
   "metadata": {},
   "source": [
    "## Using FinBert\n",
    "\n",
    "See https://huggingface.co/ProsusAI/finbert"
   ]
  },
  {
   "cell_type": "code",
   "execution_count": 19,
   "metadata": {},
   "outputs": [],
   "source": [
    "from transformers import AutoTokenizer, AutoModelForSequenceClassification\n",
    "\n",
    "tokenizer_opt = AutoTokenizer.from_pretrained(\"ProsusAI/finbert\")\n",
    "\n",
    "model_opt = AutoModelForSequenceClassification.from_pretrained(\"ProsusAI/finbert\")"
   ]
  },
  {
   "cell_type": "code",
   "execution_count": 20,
   "metadata": {},
   "outputs": [],
   "source": [
    "from transformers import pipeline\n",
    "\n",
    "analyzer_finbert = pipeline(\"sentiment-analysis\", model= model_fin , tokenizer = tokenizer_fin)"
   ]
  },
  {
   "cell_type": "code",
   "execution_count": 21,
   "metadata": {},
   "outputs": [
    {
     "data": {
      "text/plain": [
       "[{'label': 'neutral', 'score': 0.9998551607131958}]"
      ]
     },
     "execution_count": 21,
     "metadata": {},
     "output_type": "execute_result"
    }
   ],
   "source": [
    "analyzer_finbert(\"google stock will not change.\")"
   ]
  },
  {
   "cell_type": "code",
   "execution_count": 22,
   "metadata": {},
   "outputs": [],
   "source": [
    "## make a function that reades the label of the analyzer_finbert result\n",
    "## if the label is positive, it returns the analyzer_finbert score\n",
    "## if the label is negative, it returns the negative of the analyzer_finbert score\n",
    "\n",
    "def analyzer_finbert_score(text):\n",
    "    result = analyzer_finbert(text)\n",
    "    if result[0].get('label') == 'positive':\n",
    "        return result[0].get('score')\n",
    "    if result[0].get('label') == 'negative':\n",
    "        return -result[0].get('score')\n",
    "    else:\n",
    "        return 0"
   ]
  },
  {
   "cell_type": "code",
   "execution_count": 23,
   "metadata": {},
   "outputs": [],
   "source": [
    "## make a function that reades the result of analyzer_finbert_score\n",
    "## if the score is greater than 0.9 , it returns 2\n",
    "## if the score is between 0.5 and 0.9, it returns 1\n",
    "## if the score is between -0.5 and 0.5, it returns 0\n",
    "## if the score is between -0.9 and -0.5, it returns -1\n",
    "## if the score is less than -0.9, it returns -2\n",
    "\n",
    "def analyzer_finbert_bin(text):\n",
    "    score = analyzer_finbert_score(text)\n",
    "    if score > 0.9:\n",
    "        return 2\n",
    "    if score > 0.5:\n",
    "        return 1\n",
    "    if score > -0.5:\n",
    "        return 0\n",
    "    if score > -0.9:\n",
    "        return -1\n",
    "    else:\n",
    "        return -2\n"
   ]
  },
  {
   "cell_type": "code",
   "execution_count": 24,
   "metadata": {},
   "outputs": [],
   "source": [
    "## Apply analyzer_finbert pipeline to the text of each article and recording the sentiment scores in a new column\n",
    "\n",
    "# initialize a list to store the sentiment scores\n",
    "sentiment_scores = []\n",
    "\n",
    "# loop through each article\n",
    "for text in media_data['text']:\n",
    "    # apply the sentiment analysis pipeline to the abstract\n",
    "    sentiment_scores.append(analyzer_finbert_bin(text))\n",
    "    \n",
    "# add the sentiment scores to the media data\n",
    "media_data['finbert-bin'] = sentiment_scores"
   ]
  },
  {
   "attachments": {},
   "cell_type": "markdown",
   "metadata": {},
   "source": [
    "## Comparing the sentiment of the models \n",
    "TextBlob, OPT models, distilRoberta-financial-sentiment, and ProsusAI/finbert"
   ]
  },
  {
   "cell_type": "code",
   "execution_count": 28,
   "metadata": {},
   "outputs": [
    {
     "name": "stderr",
     "output_type": "stream",
     "text": [
      "/var/folders/jy/pxlchpgj4_x9c0g18vrh75n40000gn/T/ipykernel_60886/3885190276.py:10: UserWarning: \n",
      "\n",
      "`distplot` is a deprecated function and will be removed in seaborn v0.14.0.\n",
      "\n",
      "Please adapt your code to use either `displot` (a figure-level function with\n",
      "similar flexibility) or `histplot` (an axes-level function for histograms).\n",
      "\n",
      "For a guide to updating your code to use the new functions, please see\n",
      "https://gist.github.com/mwaskom/de44147ed2974457ad6372750bbe5751\n",
      "\n",
      "  sns.distplot(media_data['NLP_fin-bin'], label = 'NLP_fin sentiment bins')\n",
      "/var/folders/jy/pxlchpgj4_x9c0g18vrh75n40000gn/T/ipykernel_60886/3885190276.py:13: UserWarning: \n",
      "\n",
      "`distplot` is a deprecated function and will be removed in seaborn v0.14.0.\n",
      "\n",
      "Please adapt your code to use either `displot` (a figure-level function with\n",
      "similar flexibility) or `histplot` (an axes-level function for histograms).\n",
      "\n",
      "For a guide to updating your code to use the new functions, please see\n",
      "https://gist.github.com/mwaskom/de44147ed2974457ad6372750bbe5751\n",
      "\n",
      "  sns.distplot(media_data['Polarity'], label = 'Textblob-polarity scores', bins = 5)\n",
      "/var/folders/jy/pxlchpgj4_x9c0g18vrh75n40000gn/T/ipykernel_60886/3885190276.py:16: UserWarning: \n",
      "\n",
      "`distplot` is a deprecated function and will be removed in seaborn v0.14.0.\n",
      "\n",
      "Please adapt your code to use either `displot` (a figure-level function with\n",
      "similar flexibility) or `histplot` (an axes-level function for histograms).\n",
      "\n",
      "For a guide to updating your code to use the new functions, please see\n",
      "https://gist.github.com/mwaskom/de44147ed2974457ad6372750bbe5751\n",
      "\n",
      "  sns.distplot(media_data['finbert-bin'], label = 'NLP_finbert sentiment bins')\n"
     ]
    },
    {
     "data": {
      "text/plain": [
       "<matplotlib.legend.Legend at 0x7fbd1f2979d0>"
      ]
     },
     "execution_count": 28,
     "metadata": {},
     "output_type": "execute_result"
    },
    {
     "data": {
      "image/png": "[encoded data removed]",
      "text/plain": [
       "<Figure size 1000x600 with 1 Axes>"
      ]
     },
     "metadata": {},
     "output_type": "display_data"
    }
   ],
   "source": [
    "# set the plot size\n",
    "plt.figure(figsize=(10, 6))\n",
    "\n",
    "# plot a histogram of the OPT_sentiment-text column\n",
    "# sns.distplot(media_data['OPT_SC-sentiment'], label = 'OPT sentiment scores')\n",
    "\n",
    "# plot a histogram of distilRoberta_fin column\n",
    "sns.distplot(media_data['NLP_fin-bin'], label = 'distilRoberta_fin sentiment bins')\n",
    "\n",
    "# plot a histogram of the polarity from TextBlob scores column\n",
    "sns.distplot(media_data['Polarity'], label = 'Textblob-polarity scores', bins = 5)\n",
    "\n",
    "# plot a histogram of the NLP_finbert-sentiment-text column\n",
    "sns.distplot(media_data['finbert-bin'], label = 'FinBert sentiment bins')\n",
    "\n",
    "# set the title and labels\n",
    "plt.title('Histogram of sentiment scores')\n",
    "plt.xlabel('Sentiment score')\n",
    "plt.ylabel('Frequency')\n",
    "\n",
    "# show the legend\n",
    "plt.legend()"
   ]
  }
 ],
 "metadata": {
  "kernelspec": {
   "display_name": "Python 3 (ipykernel)",
   "language": "python",
   "name": "python3"
  },
  "language_info": {
   "codemirror_mode": {
    "name": "ipython",
    "version": 3
   },
   "file_extension": ".py",
   "mimetype": "text/x-python",
   "name": "python",
   "nbconvert_exporter": "python",
   "pygments_lexer": "ipython3",
   "version": "3.10.9"
  }
 },
 "nbformat": 4,
 "nbformat_minor": 4
}
