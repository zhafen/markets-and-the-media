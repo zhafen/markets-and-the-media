{
 "cells": [
  {
   "cell_type": "code",
   "execution_count": 5,
   "id": "0025dcb8",
   "metadata": {},
   "outputs": [],
   "source": [
    "#import packages\n",
    "import pandas as pd\n",
    "import numpy as np\n",
    "import datetime"
   ]
  },
  {
   "cell_type": "code",
   "execution_count": 6,
   "id": "aafc3102",
   "metadata": {},
   "outputs": [],
   "source": [
    "#upload media.csv and markets.csv\n",
    "media_data = pd.read_csv(\"media.csv\", index_col = 0, parse_dates = ['pub_date'])\n",
    "markets_data = pd.read_csv(\"markets.csv\", parse_dates = ['Date'])"
   ]
  },
  {
   "cell_type": "code",
   "execution_count": 7,
   "id": "dc9134eb",
   "metadata": {},
   "outputs": [],
   "source": [
    "#changing the format of date\n",
    "media_data['pub_date'] = [date.strftime('%Y-%m-%d') for date in media_data['pub_date']]\n",
    "markets_data['Date'] = [date.strftime('%Y-%m-%d') for date in markets_data['Date']]"
   ]
  },
  {
   "cell_type": "code",
   "execution_count": 8,
   "id": "b68b097c",
   "metadata": {},
   "outputs": [],
   "source": [
    "# Set tau and beta\n",
    "tau = 7\n",
    "beta = 2"
   ]
  },
  {
   "cell_type": "code",
   "execution_count": 13,
   "id": "d95161a4",
   "metadata": {},
   "outputs": [],
   "source": [
    "# Looping thru' days of 2022, record closing price on day t - beta and day t. Record the average polarity, sentiment of \n",
    "# media articles over the next tau days.\n",
    "\n",
    "Date = []\n",
    "Close_beta = []\n",
    "Close = []\n",
    "Average_Polarity_tau = []\n",
    "Average_Sentiment_tau = []\n",
    "\n",
    "start_date = datetime.date(2022, 1, 5)\n",
    "end_date = datetime.date(2022, 10, 31)\n",
    "delta = datetime.timedelta(days = 1)\n",
    "\n",
    "while (start_date <= end_date):\n",
    "    if str(start_date) not in markets_data.Date.values:\n",
    "        start_date += delta\n",
    "        continue\n",
    "        \n",
    "    Date.append(str(start_date))\n",
    "    \n",
    "    Close.append(markets_data['Close'].loc[markets_data.Date == str(start_date)].item())\n",
    "    \n",
    "    date1 = start_date - beta * delta\n",
    "    while str(date1) not in markets_data.Date.values:\n",
    "        date1 -= delta \n",
    "    Close_beta.append(markets_data['Close'].loc[markets_data.Date == str(date1)].item())\n",
    "    \n",
    "    date2 = start_date\n",
    "    lst_dates = []\n",
    "    for i in range(tau):\n",
    "        lst_dates.append(str(date2 + i * delta))\n",
    "    \n",
    "    Average_Polarity_tau.append(media_data.Polarity.loc[media_data.pub_date.isin(lst_dates)].mean())\n",
    "    Average_Sentiment_tau.append(media_data.Sentiment.loc[media_data.pub_date.isin(lst_dates)].mean())\n",
    "    \n",
    "    start_date += delta"
   ]
  },
  {
   "cell_type": "code",
   "execution_count": 14,
   "id": "ed50e3f5",
   "metadata": {},
   "outputs": [],
   "source": [
    "Correlation_df = pd.DataFrame({'Date' : Date, 'Close_beta' : Close_beta, 'Close' : Close,\n",
    "                               'Average_Polarity_tau' : Average_Polarity_tau,\n",
    "                               'Average_Sentiment_tau' : Average_Sentiment_tau})"
   ]
  },
  {
   "cell_type": "code",
   "execution_count": 19,
   "id": "d285644a",
   "metadata": {},
   "outputs": [
    {
     "name": "stdout",
     "output_type": "stream",
     "text": [
      "           Date  Close_beta       Close  Average_Polarity_tau  \\\n",
      "0    2022-01-05  144.991501  137.774994             -0.064492   \n",
      "1    2022-01-06  144.399506  137.747498             -0.064492   \n",
      "2    2022-01-07  137.774994  137.016998             -0.757070   \n",
      "3    2022-01-10  137.016998  138.669495             -0.347441   \n",
      "4    2022-01-11  137.016998  139.735992             -0.142626   \n",
      "..          ...         ...         ...                   ...   \n",
      "202  2022-10-25  101.129997  104.480003             -0.102954   \n",
      "203  2022-10-26  102.519997   94.930000             -0.311395   \n",
      "204  2022-10-27  104.480003   92.220001             -0.812581   \n",
      "205  2022-10-28   94.930000   96.290001             -0.812581   \n",
      "206  2022-10-31   96.290001   94.510002                   NaN   \n",
      "\n",
      "     Average_Sentiment_tau  \n",
      "0                 0.902015  \n",
      "1                 0.902015  \n",
      "2                 0.883228  \n",
      "3                 0.580194  \n",
      "4                 0.428677  \n",
      "..                     ...  \n",
      "202               0.616342  \n",
      "203               0.408259  \n",
      "204               0.495369  \n",
      "205               0.495369  \n",
      "206                    NaN  \n",
      "\n",
      "[207 rows x 5 columns]\n"
     ]
    }
   ],
   "source": [
    "print(Correlation_df)"
   ]
  },
  {
   "cell_type": "code",
   "execution_count": null,
   "id": "0c9f776f",
   "metadata": {},
   "outputs": [],
   "source": []
  }
 ],
 "metadata": {
  "kernelspec": {
   "display_name": "Python 3 (ipykernel)",
   "language": "python",
   "name": "python3"
  },
  "language_info": {
   "codemirror_mode": {
    "name": "ipython",
    "version": 3
   },
   "file_extension": ".py",
   "mimetype": "text/x-python",
   "name": "python",
   "nbconvert_exporter": "python",
   "pygments_lexer": "ipython3",
   "version": "3.9.13"
  }
 },
 "nbformat": 4,
 "nbformat_minor": 5
}
