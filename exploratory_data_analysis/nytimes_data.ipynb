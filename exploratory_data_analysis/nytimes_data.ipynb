{
 "cells": [
  {
   "cell_type": "code",
   "execution_count": 1,
   "id": "61db8b57-a1dd-489a-91df-98277d02399f",
   "metadata": {},
   "outputs": [],
   "source": [
    "import os\n",
    "from datetime import datetime\n",
    "import pandas as pd"
   ]
  },
  {
   "cell_type": "markdown",
   "id": "991a7bf7-a92f-45ab-8d3f-c1f0d6eb9981",
   "metadata": {},
   "source": [
    "# Parameters"
   ]
  },
  {
   "cell_type": "code",
   "execution_count": 2,
   "id": "55847ca4-9786-4980-8e40-93df67a39c69",
   "metadata": {},
   "outputs": [],
   "source": [
    "# Parameters dictionary.\n",
    "pm = {\n",
    "    'organization': 'Google Inc',\n",
    "    'start_date_train': datetime(2022,1,1),\n",
    "    'end_date_train': datetime(2022,11,1),\n",
    "    'start_date_test': datetime(2022,11,1),\n",
    "    'end_date_test': datetime(2023,1,1),\n",
    "    'n_articles': 5,\n",
    "    'text_columns': [ 'abstract', 'lead_paragraph', 'snippet', 'headline.main', ],\n",
    "}"
   ]
  },
  {
   "cell_type": "markdown",
   "id": "31e79ec8-e63f-4f4d-bc16-d545acef8fb0",
   "metadata": {},
   "source": [
    "⭕ **Possible Improvements:**\n",
    "\n",
    "* The date range for the market data (dependent variable) could be larger than the date range for the news, since there may be a time lag.\n",
    "* Test for a number of years.\n",
    "* Play with what text columns are included or not.\n",
    "* Test if weighting articles by how much a company is mentioned in the article improves predictions.\n",
    "* Inspect how the number of articles published changes things."
   ]
  },
  {
   "cell_type": "markdown",
   "id": "687b70b8-9074-4975-ae08-e07709ecbb82",
   "metadata": {},
   "source": [
    "# NYTimes Data"
   ]
  },
  {
   "cell_type": "markdown",
   "id": "5fe480af-37ed-4ab4-9c36-429c0e323089",
   "metadata": {},
   "source": [
    "## Retrieve Data\n",
    "To access the NYTimes API we will by using the `pynytimes` repository, for which the bibtex citations is:\n",
    "```\n",
    "@software{Den_Heijer_pynytimes_2023,\n",
    "    author = {Den Heijer, Micha},\n",
    "    license = {MIT},\n",
    "    title = {{pynytimes}},\n",
    "    url = {https://github.com/michadenheijer/pynytimes},\n",
    "    version = {0.10.0},\n",
    "    year = {2023},\n",
    "    doi = {10.5281/zenodo.7821090}\n",
    "}\n",
    "```\n",
    "\n",
    "Our API key is stored int the environment variable `NYTIMES_KEY`, which is set in e.g. `~/.bash_profile` or `~/.zshrc`"
   ]
  },
  {
   "cell_type": "code",
   "execution_count": 3,
   "id": "ec76f8d9-4305-44b8-b6e9-cc16fa68c3ea",
   "metadata": {},
   "outputs": [],
   "source": [
    "from pynytimes import NYTAPI"
   ]
  },
  {
   "cell_type": "code",
   "execution_count": 4,
   "id": "a50d8f1b-443b-4d18-a95b-e4be16825264",
   "metadata": {},
   "outputs": [],
   "source": [
    "nytapi = NYTAPI( os.environ.get( 'NYTIMES_KEY' ), parse_dates=True )"
   ]
  },
  {
   "cell_type": "code",
   "execution_count": 5,
   "id": "6325b2ab",
   "metadata": {},
   "outputs": [],
   "source": [
    "results = nytapi.article_search(\n",
    "    query=pm['organization'],\n",
    "    results=pm['n_articles'],\n",
    "    dates={ 'begin':pm['start_date_train'], 'end':pm['end_date_train'] }\n",
    ")"
   ]
  },
  {
   "cell_type": "markdown",
   "id": "aabff904-eeee-4578-87fa-507c4769a092",
   "metadata": {},
   "source": [
    "⭕ **Possible Improvement:**\n",
    "\n",
    "Currently searching with keywords. An advanced option is to use the filter query feature of the NYTimes API, e.g.\n",
    "```\n",
    "options={\n",
    "    'fq': 'organizations:(\"Google Inc\")',\n",
    "},\n",
    "```\n",
    "This requires also filtering on the \"rank\" of the organization in regards to the article, as found in e.g. `article['keywords']['rank']`. Otherwise we'll get articles tangentially related to the target company."
   ]
  },
  {
   "cell_type": "markdown",
   "id": "67b0d136-ecf2-4498-93ab-a22e15e19e3c",
   "metadata": {},
   "source": [
    "## Format Data"
   ]
  },
  {
   "cell_type": "code",
   "execution_count": 6,
   "id": "40e3a5d7-56f2-49aa-9663-77dbcdee3da6",
   "metadata": {},
   "outputs": [],
   "source": [
    "# Create storage dictionary\n",
    "nyt_data = {\n",
    "    'pub_date': [],\n",
    "}\n",
    "for column in pm['text_columns']:\n",
    "    nyt_data[column] = []"
   ]
  },
  {
   "cell_type": "code",
   "execution_count": 7,
   "id": "504efb80-9884-42bf-b558-02b767e68ec9",
   "metadata": {},
   "outputs": [],
   "source": [
    "# Collect\n",
    "for i, result in enumerate( results ):\n",
    "    for column in nyt_data.keys():\n",
    "        \n",
    "        # Parse column\n",
    "        if '.' in column:\n",
    "            column_keys = column.split( '.' )\n",
    "            column_val = result[column_keys[0]][column_keys[1]]\n",
    "        else:\n",
    "            column_val = result[column]\n",
    "            \n",
    "        # Store\n",
    "        nyt_data[column].append( column_val )"
   ]
  },
  {
   "cell_type": "code",
   "execution_count": 8,
   "id": "0242f108-2667-488b-a92d-70f115d0317c",
   "metadata": {},
   "outputs": [],
   "source": [
    "# Turn into a dataframe\n",
    "nyt = pd.DataFrame( nyt_data )"
   ]
  },
  {
   "cell_type": "code",
   "execution_count": 9,
   "id": "d32c2561-8ebd-4d58-a114-2b0122ae51df",
   "metadata": {},
   "outputs": [],
   "source": [
    "# Collect the full string\n",
    "nyt['text'] = ( nyt[pm['text_columns']] + ' ' ).sum( axis=1 )"
   ]
  },
  {
   "cell_type": "code",
   "execution_count": 10,
   "id": "caa42ff1-38db-4237-b365-24d4ec6bc882",
   "metadata": {},
   "outputs": [
    {
     "data": {
      "text/html": [
       "<div>\n",
       "<style scoped>\n",
       "    .dataframe tbody tr th:only-of-type {\n",
       "        vertical-align: middle;\n",
       "    }\n",
       "\n",
       "    .dataframe tbody tr th {\n",
       "        vertical-align: top;\n",
       "    }\n",
       "\n",
       "    .dataframe thead th {\n",
       "        text-align: right;\n",
       "    }\n",
       "</style>\n",
       "<table border=\"1\" class=\"dataframe\">\n",
       "  <thead>\n",
       "    <tr style=\"text-align: right;\">\n",
       "      <th></th>\n",
       "      <th>pub_date</th>\n",
       "      <th>abstract</th>\n",
       "      <th>lead_paragraph</th>\n",
       "      <th>snippet</th>\n",
       "      <th>headline.main</th>\n",
       "      <th>text</th>\n",
       "    </tr>\n",
       "  </thead>\n",
       "  <tbody>\n",
       "    <tr>\n",
       "      <th>0</th>\n",
       "      <td>2022-10-25 20:37:03+00:00</td>\n",
       "      <td>Google’s parent company reported earnings that...</td>\n",
       "      <td>Even Alphabet, the parent company of Google an...</td>\n",
       "      <td>Google’s parent company reported earnings that...</td>\n",
       "      <td>Alphabet’s Profit Drops 27 Percent From a Year...</td>\n",
       "      <td>Google’s parent company reported earnings that...</td>\n",
       "    </tr>\n",
       "    <tr>\n",
       "      <th>1</th>\n",
       "      <td>2022-10-26 22:47:44+00:00</td>\n",
       "      <td>A series of quarterly earnings reports is show...</td>\n",
       "      <td>Google this week reported a steep decline in p...</td>\n",
       "      <td>A series of quarterly earnings reports is show...</td>\n",
       "      <td>Tech’s Biggest Companies Are Sending Worrying ...</td>\n",
       "      <td>A series of quarterly earnings reports is show...</td>\n",
       "    </tr>\n",
       "    <tr>\n",
       "      <th>2</th>\n",
       "      <td>2022-10-20 15:05:58+00:00</td>\n",
       "      <td>Ken Paxton, the state attorney general, said p...</td>\n",
       "      <td>The Texas attorney general filed a privacy law...</td>\n",
       "      <td>Ken Paxton, the state attorney general, said p...</td>\n",
       "      <td>Texas Sues Google for Collecting Biometric Dat...</td>\n",
       "      <td>Ken Paxton, the state attorney general, said p...</td>\n",
       "    </tr>\n",
       "    <tr>\n",
       "      <th>3</th>\n",
       "      <td>2022-10-28 12:06:38+00:00</td>\n",
       "      <td>The social network’s new owner has just a few ...</td>\n",
       "      <td>Elon Musk closes his purchase of Twitter and f...</td>\n",
       "      <td>The social network’s new owner has just a few ...</td>\n",
       "      <td>Elon Musk Faces Another Big Decision at Twitter</td>\n",
       "      <td>The social network’s new owner has just a few ...</td>\n",
       "    </tr>\n",
       "    <tr>\n",
       "      <th>4</th>\n",
       "      <td>2022-10-25 18:24:56+00:00</td>\n",
       "      <td>Apple has rejected Spotify’s new app three tim...</td>\n",
       "      <td>Daniel Ek, the chief executive of Spotify, wan...</td>\n",
       "      <td>Apple has rejected Spotify’s new app three tim...</td>\n",
       "      <td>Spotify Wants to Get Into Audiobooks but Says ...</td>\n",
       "      <td>Apple has rejected Spotify’s new app three tim...</td>\n",
       "    </tr>\n",
       "  </tbody>\n",
       "</table>\n",
       "</div>"
      ],
      "text/plain": [
       "                   pub_date  \\\n",
       "0 2022-10-25 20:37:03+00:00   \n",
       "1 2022-10-26 22:47:44+00:00   \n",
       "2 2022-10-20 15:05:58+00:00   \n",
       "3 2022-10-28 12:06:38+00:00   \n",
       "4 2022-10-25 18:24:56+00:00   \n",
       "\n",
       "                                            abstract  \\\n",
       "0  Google’s parent company reported earnings that...   \n",
       "1  A series of quarterly earnings reports is show...   \n",
       "2  Ken Paxton, the state attorney general, said p...   \n",
       "3  The social network’s new owner has just a few ...   \n",
       "4  Apple has rejected Spotify’s new app three tim...   \n",
       "\n",
       "                                      lead_paragraph  \\\n",
       "0  Even Alphabet, the parent company of Google an...   \n",
       "1  Google this week reported a steep decline in p...   \n",
       "2  The Texas attorney general filed a privacy law...   \n",
       "3  Elon Musk closes his purchase of Twitter and f...   \n",
       "4  Daniel Ek, the chief executive of Spotify, wan...   \n",
       "\n",
       "                                             snippet  \\\n",
       "0  Google’s parent company reported earnings that...   \n",
       "1  A series of quarterly earnings reports is show...   \n",
       "2  Ken Paxton, the state attorney general, said p...   \n",
       "3  The social network’s new owner has just a few ...   \n",
       "4  Apple has rejected Spotify’s new app three tim...   \n",
       "\n",
       "                                       headline.main  \\\n",
       "0  Alphabet’s Profit Drops 27 Percent From a Year...   \n",
       "1  Tech’s Biggest Companies Are Sending Worrying ...   \n",
       "2  Texas Sues Google for Collecting Biometric Dat...   \n",
       "3    Elon Musk Faces Another Big Decision at Twitter   \n",
       "4  Spotify Wants to Get Into Audiobooks but Says ...   \n",
       "\n",
       "                                                text  \n",
       "0  Google’s parent company reported earnings that...  \n",
       "1  A series of quarterly earnings reports is show...  \n",
       "2  Ken Paxton, the state attorney general, said p...  \n",
       "3  The social network’s new owner has just a few ...  \n",
       "4  Apple has rejected Spotify’s new app three tim...  "
      ]
     },
     "execution_count": 10,
     "metadata": {},
     "output_type": "execute_result"
    }
   ],
   "source": [
    "nyt.head()"
   ]
  },
  {
   "cell_type": "code",
   "execution_count": null,
   "id": "9d88d25a-a452-4003-845f-b337413c4da1",
   "metadata": {},
   "outputs": [],
   "source": []
  }
 ],
 "metadata": {
  "kernelspec": {
   "display_name": "Python 3 (ipykernel)",
   "language": "python",
   "name": "python3"
  },
  "language_info": {
   "codemirror_mode": {
    "name": "ipython",
    "version": 3
   },
   "file_extension": ".py",
   "mimetype": "text/x-python",
   "name": "python",
   "nbconvert_exporter": "python",
   "pygments_lexer": "ipython3",
   "version": "3.11.3"
  }
 },
 "nbformat": 4,
 "nbformat_minor": 5
}
