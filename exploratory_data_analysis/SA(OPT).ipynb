{
 "cells": [
  {
   "attachments": {},
   "cell_type": "markdown",
   "metadata": {},
   "source": [
    "# Using NLP for sentiment analysis\n",
    "See https://huggingface.co/blog/sentiment-analysis-python\n",
    "Also see https://ieeexplore.ieee.org/document/8848203\n"
   ]
  },
  {
   "attachments": {},
   "cell_type": "markdown",
   "metadata": {},
   "source": [
    "## Uing OPT as a model"
   ]
  },
  {
   "cell_type": "code",
   "execution_count": 28,
   "metadata": {},
   "outputs": [],
   "source": [
    "from transformers import OPTConfig, OPTModel, AutoTokenizer, OPTForSequenceClassification\n",
    " \n",
    "# Initializing a OPT facebook/opt-large style configuration\n",
    "configuration = OPTConfig()\n",
    "\n",
    "# Initializing a model (with random weights) from the facebook/opt-large style configuration\n",
    "model = OPTForSequenceClassification(configuration)\n",
    "\n",
    "# Accessing the model configuration\n",
    "configuration = model.config\n",
    "\n",
    "# Initializing a OPT tokenizer\n",
    "tokenizer = AutoTokenizer.from_pretrained(\"facebook/opt-350m\")"
   ]
  },
  {
   "cell_type": "code",
   "execution_count": 29,
   "metadata": {},
   "outputs": [],
   "source": [
    "from transformers import pipeline, AutoModelForTokenClassification, AutoTokenizer\n",
    "\n",
    "# Sentiment analysis pipeline\n",
    "analyzer = pipeline(\"sentiment-analysis\", model= model , tokenizer = tokenizer)\n",
    "\n"
   ]
  },
  {
   "cell_type": "code",
   "execution_count": 30,
   "metadata": {},
   "outputs": [],
   "source": [
    "import pandas as pd\n",
    "\n",
    "media_data = pd.read_csv(\"../test_data/media.csv\", index_col = 0, parse_dates = ['pub_date'])"
   ]
  },
  {
   "cell_type": "code",
   "execution_count": 31,
   "metadata": {},
   "outputs": [],
   "source": [
    "## Apply the sentiment analysis pipeline to the abstract of each article in the media data\n",
    "\n",
    "# initialize a list to store the sentiment scores\n",
    "sentiment_scores = []\n",
    "\n",
    "# loop through each article\n",
    "for abstract in media_data['abstract']:\n",
    "    # apply the sentiment analysis pipeline to the abstract\n",
    "    sentiment_scores.append(analyzer(abstract)[0].get('score'))\n",
    "    \n",
    "# add the sentiment scores to the media data\n",
    "media_data['OPT_sentiment_score-abstract'] = sentiment_scores\n",
    "\n"
   ]
  },
  {
   "attachments": {},
   "cell_type": "markdown",
   "metadata": {},
   "source": [
    "### Note:\n",
    "nlp_sentiment_score returns a sentiment score between 0 and 1 while textblob returns a sentiment score between -1 and 1."
   ]
  },
  {
   "cell_type": "code",
   "execution_count": 32,
   "metadata": {},
   "outputs": [],
   "source": [
    "# ## change the name of the column to 'sentiment_score' to 'nlp_sentiment_score'\n",
    "# media_data.rename(columns = {'nlp_sentiment_score':'OPT_sentiment_score'}, inplace = True)\n",
    "\n",
    "# ## display random 5 rows of the media data\n",
    "# media_data.sample(5)"
   ]
  },
  {
   "cell_type": "code",
   "execution_count": 33,
   "metadata": {},
   "outputs": [
    {
     "name": "stdout",
     "output_type": "stream",
     "text": [
      "Article with the highest sentiment score was: \n",
      "'Change These Default Settings and Be Happier With Your Tech' with score 0.8934900164604187, \n",
      " and the lowest sentiment score was: \n",
      "'Text Messaging Is Cool. But Where Are Its Boundaries?' with score 0.5016201734542847\n"
     ]
    }
   ],
   "source": [
    "## looking at the articles with the highest and lowest nlp_sentiment_scores\n",
    "max_score = media_data['OPT_sentiment_score-abstract'].max()\n",
    "min_score = media_data['OPT_sentiment_score-abstract'].min()\n",
    "\n",
    "## display the articles with the highest and lowest nlp_sentiment_scores\n",
    "articles_with_max_score = media_data[media_data['OPT_sentiment_score-abstract'] == max_score]\n",
    "articles_with_min_score = media_data[media_data['OPT_sentiment_score-abstract'] == min_score]\n",
    "\n",
    "print(\"Article with the highest sentiment score was: \\n'{}' with score {}, \\n and the lowest sentiment score was: \\n'{}' with score {}\".format(articles_with_max_score['headline.main'].values[0], max_score, articles_with_min_score['headline.main'].values[0], min_score))"
   ]
  },
  {
   "cell_type": "code",
   "execution_count": 34,
   "metadata": {},
   "outputs": [
    {
     "data": {
      "text/plain": [
       "'Simple steps can make your smartphone, computer and TV work better for you.'"
      ]
     },
     "execution_count": 34,
     "metadata": {},
     "output_type": "execute_result"
    }
   ],
   "source": [
    "## Look at the full abstract of the article with the highest sentiment score\n",
    "articles_with_max_score['abstract'].values[0]"
   ]
  },
  {
   "cell_type": "code",
   "execution_count": 35,
   "metadata": {},
   "outputs": [
    {
     "data": {
      "text/plain": [
       "'Apple and Google have added useful features to texting apps, yet the apps still lack a major component: an effective way to set limits.'"
      ]
     },
     "execution_count": 35,
     "metadata": {},
     "output_type": "execute_result"
    }
   ],
   "source": [
    "articles_with_min_score['abstract'].values[0]"
   ]
  },
  {
   "cell_type": "code",
   "execution_count": 36,
   "metadata": {},
   "outputs": [
    {
     "data": {
      "text/html": [
       "<div>\n",
       "<style scoped>\n",
       "    .dataframe tbody tr th:only-of-type {\n",
       "        vertical-align: middle;\n",
       "    }\n",
       "\n",
       "    .dataframe tbody tr th {\n",
       "        vertical-align: top;\n",
       "    }\n",
       "\n",
       "    .dataframe thead th {\n",
       "        text-align: right;\n",
       "    }\n",
       "</style>\n",
       "<table border=\"1\" class=\"dataframe\">\n",
       "  <thead>\n",
       "    <tr style=\"text-align: right;\">\n",
       "      <th></th>\n",
       "      <th>pub_date</th>\n",
       "      <th>abstract</th>\n",
       "      <th>lead_paragraph</th>\n",
       "      <th>snippet</th>\n",
       "      <th>headline.main</th>\n",
       "      <th>text</th>\n",
       "      <th>Polarity</th>\n",
       "      <th>Sentiment</th>\n",
       "      <th>OPT_sentiment_score-abstract</th>\n",
       "      <th>OPT_sentiment_score-lead_paragraph</th>\n",
       "    </tr>\n",
       "  </thead>\n",
       "  <tbody>\n",
       "    <tr>\n",
       "      <th>71</th>\n",
       "      <td>2022-03-23 22:11:21+00:00</td>\n",
       "      <td>The test program is likely to whittle away at ...</td>\n",
       "      <td>Google said on Wednesday that it would allow s...</td>\n",
       "      <td>The test program is likely to whittle away at ...</td>\n",
       "      <td>Google, facing antitrust scrutiny, says it wil...</td>\n",
       "      <td>The test program is likely to whittle away at ...</td>\n",
       "      <td>-0.721876</td>\n",
       "      <td>0.153309</td>\n",
       "      <td>0.714149</td>\n",
       "      <td>0.759162</td>\n",
       "    </tr>\n",
       "    <tr>\n",
       "      <th>57</th>\n",
       "      <td>2022-05-11 21:56:52+00:00</td>\n",
       "      <td>Artificial intelligence is being woven into an...</td>\n",
       "      <td>SAN FRANCISCO — There was a time when Google o...</td>\n",
       "      <td>Artificial intelligence is being woven into an...</td>\n",
       "      <td>Google Offers a More Modest Vision of the Future</td>\n",
       "      <td>Artificial intelligence is being woven into an...</td>\n",
       "      <td>-0.423378</td>\n",
       "      <td>0.553346</td>\n",
       "      <td>0.868511</td>\n",
       "      <td>0.716421</td>\n",
       "    </tr>\n",
       "    <tr>\n",
       "      <th>19</th>\n",
       "      <td>2022-09-01 11:54:05+00:00</td>\n",
       "      <td>Apple, Google and Microsoft are among the tech...</td>\n",
       "      <td>This month, Apple is expected to release the i...</td>\n",
       "      <td>Apple, Google and Microsoft are among the tech...</td>\n",
       "      <td>Big Tech Reconsiders the “Made in China” Way</td>\n",
       "      <td>Apple, Google and Microsoft are among the tech...</td>\n",
       "      <td>0.964186</td>\n",
       "      <td>0.461493</td>\n",
       "      <td>0.526054</td>\n",
       "      <td>0.695505</td>\n",
       "    </tr>\n",
       "    <tr>\n",
       "      <th>15</th>\n",
       "      <td>2022-09-15 09:00:26+00:00</td>\n",
       "      <td>Data mining plus streaming can target politica...</td>\n",
       "      <td>Over the last few weeks, tens of thousands of ...</td>\n",
       "      <td>Data mining plus streaming can target politica...</td>\n",
       "      <td>This Ad’s for You (Not Your Neighbor)</td>\n",
       "      <td>Data mining plus streaming can target politica...</td>\n",
       "      <td>0.581998</td>\n",
       "      <td>0.482124</td>\n",
       "      <td>0.679978</td>\n",
       "      <td>0.557534</td>\n",
       "    </tr>\n",
       "    <tr>\n",
       "      <th>50</th>\n",
       "      <td>2022-06-07 14:40:15+00:00</td>\n",
       "      <td>Soon, iPhone owners will be able to edit text ...</td>\n",
       "      <td>CUPERTINO, Calif. — Around this time every yea...</td>\n",
       "      <td>Soon, iPhone owners will be able to edit text ...</td>\n",
       "      <td>How Updates in iOS 16 and Android 13 Will Chan...</td>\n",
       "      <td>Soon, iPhone owners will be able to edit text ...</td>\n",
       "      <td>0.292976</td>\n",
       "      <td>0.243523</td>\n",
       "      <td>0.701220</td>\n",
       "      <td>0.708729</td>\n",
       "    </tr>\n",
       "  </tbody>\n",
       "</table>\n",
       "</div>"
      ],
      "text/plain": [
       "                    pub_date  \\\n",
       "71 2022-03-23 22:11:21+00:00   \n",
       "57 2022-05-11 21:56:52+00:00   \n",
       "19 2022-09-01 11:54:05+00:00   \n",
       "15 2022-09-15 09:00:26+00:00   \n",
       "50 2022-06-07 14:40:15+00:00   \n",
       "\n",
       "                                             abstract  \\\n",
       "71  The test program is likely to whittle away at ...   \n",
       "57  Artificial intelligence is being woven into an...   \n",
       "19  Apple, Google and Microsoft are among the tech...   \n",
       "15  Data mining plus streaming can target politica...   \n",
       "50  Soon, iPhone owners will be able to edit text ...   \n",
       "\n",
       "                                       lead_paragraph  \\\n",
       "71  Google said on Wednesday that it would allow s...   \n",
       "57  SAN FRANCISCO — There was a time when Google o...   \n",
       "19  This month, Apple is expected to release the i...   \n",
       "15  Over the last few weeks, tens of thousands of ...   \n",
       "50  CUPERTINO, Calif. — Around this time every yea...   \n",
       "\n",
       "                                              snippet  \\\n",
       "71  The test program is likely to whittle away at ...   \n",
       "57  Artificial intelligence is being woven into an...   \n",
       "19  Apple, Google and Microsoft are among the tech...   \n",
       "15  Data mining plus streaming can target politica...   \n",
       "50  Soon, iPhone owners will be able to edit text ...   \n",
       "\n",
       "                                        headline.main  \\\n",
       "71  Google, facing antitrust scrutiny, says it wil...   \n",
       "57   Google Offers a More Modest Vision of the Future   \n",
       "19       Big Tech Reconsiders the “Made in China” Way   \n",
       "15              This Ad’s for You (Not Your Neighbor)   \n",
       "50  How Updates in iOS 16 and Android 13 Will Chan...   \n",
       "\n",
       "                                                 text  Polarity  Sentiment  \\\n",
       "71  The test program is likely to whittle away at ... -0.721876   0.153309   \n",
       "57  Artificial intelligence is being woven into an... -0.423378   0.553346   \n",
       "19  Apple, Google and Microsoft are among the tech...  0.964186   0.461493   \n",
       "15  Data mining plus streaming can target politica...  0.581998   0.482124   \n",
       "50  Soon, iPhone owners will be able to edit text ...  0.292976   0.243523   \n",
       "\n",
       "    OPT_sentiment_score-abstract  OPT_sentiment_score-lead_paragraph  \n",
       "71                      0.714149                            0.759162  \n",
       "57                      0.868511                            0.716421  \n",
       "19                      0.526054                            0.695505  \n",
       "15                      0.679978                            0.557534  \n",
       "50                      0.701220                            0.708729  "
      ]
     },
     "execution_count": 36,
     "metadata": {},
     "output_type": "execute_result"
    }
   ],
   "source": [
    "## Let us now apply the OPT model to the lead_paragraph of each article in the media data\n",
    "\n",
    "# initialize a list to store the sentiment scores\n",
    "sentiment_scores = []\n",
    "\n",
    "# loop through each article\n",
    "for lead_paragraph in media_data['lead_paragraph']:\n",
    "    # apply the sentiment analysis pipeline to the abstract\n",
    "    sentiment_scores.append(analyzer(lead_paragraph)[0].get('score'))\n",
    "\n",
    "# add the sentiment scores to the media data\n",
    "media_data['OPT_sentiment_score-lead_paragraph'] = sentiment_scores\n",
    "\n",
    "# display random 5 rows of the media data\n",
    "\n",
    "media_data.sample(5)\n"
   ]
  },
  {
   "cell_type": "code",
   "execution_count": 37,
   "metadata": {},
   "outputs": [
    {
     "name": "stdout",
     "output_type": "stream",
     "text": [
      "Recession? Not for Big Tech.\n",
      "Google Says Trump’s Truth Social Must Scrub Violent Content to Join Play Store\n"
     ]
    }
   ],
   "source": [
    "## find the articles with the highest and lowest OPT_sentiment_score-lead_paragraph scores\n",
    "articles_with_max_score_lead_paragraph = media_data[media_data['OPT_sentiment_score-lead_paragraph'] == \n",
    "                                                    media_data['OPT_sentiment_score-lead_paragraph'].max()]\n",
    "articles_with_min_score_lead_paragraph = media_data[media_data['OPT_sentiment_score-lead_paragraph'] == \n",
    "                                                    media_data['OPT_sentiment_score-lead_paragraph'].min()]\n",
    "\n",
    "print(articles_with_max_score_lead_paragraph['headline.main'].values[0])\n",
    "print(articles_with_min_score_lead_paragraph['headline.main'].values[0])"
   ]
  },
  {
   "cell_type": "code",
   "execution_count": 38,
   "metadata": {},
   "outputs": [],
   "source": [
    "## making a new column called 'all_article-data' by concatenating the abstract, lead_paragraph columns, headline.main, text\n",
    "media_data['all_article_data'] = 'The abstact is: ' + media_data['abstract']+ '\\n' + 'The lead paragraph is: ' + media_data['lead_paragraph'] + '\\n' + 'The Headline is: ' + media_data['headline.main'] + '\\n' + 'First part of text is: ' + media_data['text']"
   ]
  },
  {
   "cell_type": "code",
   "execution_count": 39,
   "metadata": {},
   "outputs": [
    {
     "name": "stdout",
     "output_type": "stream",
     "text": [
      "The abstact is: Google’s parent company reported earnings that were below analysts’ expectations, bringing in $13.9 billion in profit on $69.1 billion in sales.\n",
      "The lead paragraph is: Even Alphabet, the parent company of Google and one of the internet’s most entrenched businesses, was not immune to the punishing blows of the global economy and a sharp slowdown in the online advertising that is essential to the company’s profits.\n",
      "The Headline is: Alphabet’s Profit Drops 27 Percent From a Year Earlier\n",
      "First part of text is: Google’s parent company reported earnings that were below analysts’ expectations, bringing in $13.9 billion in profit on $69.1 billion in sales. Even Alphabet, the parent company of Google and one of the internet’s most entrenched businesses, was not immune to the punishing blows of the global economy and a sharp slowdown in the online advertising that is essential to the company’s profits. Google’s parent company reported earnings that were below analysts’ expectations, bringing in $13.9 billion in profit on $69.1 billion in sales. Alphabet’s Profit Drops 27 Percent From a Year Earlier \n"
     ]
    }
   ],
   "source": [
    "print(media_data['all_article_data'][0])\n",
    "\n",
    "## in a string to go to the next line, we use '\\n'"
   ]
  },
  {
   "cell_type": "code",
   "execution_count": 40,
   "metadata": {},
   "outputs": [],
   "source": [
    "## Apply the sentiment analysis pipeline to the all_article_data of each article in the media data\n",
    "sentiment_scores = []\n",
    "\n",
    "# loop through each article\n",
    "for all_article_data in media_data['all_article_data']:\n",
    "    # apply the sentiment analysis pipeline to the abstract\n",
    "    sentiment_scores.append(analyzer(all_article_data)[0].get('score'))\n",
    "    \n",
    "# add the sentiment scores to the media data\n",
    "media_data['OPT_sentiment_score-all_article_data'] = sentiment_scores\n"
   ]
  },
  {
   "cell_type": "code",
   "execution_count": 41,
   "metadata": {},
   "outputs": [
    {
     "data": {
      "text/html": [
       "<div>\n",
       "<style scoped>\n",
       "    .dataframe tbody tr th:only-of-type {\n",
       "        vertical-align: middle;\n",
       "    }\n",
       "\n",
       "    .dataframe tbody tr th {\n",
       "        vertical-align: top;\n",
       "    }\n",
       "\n",
       "    .dataframe thead th {\n",
       "        text-align: right;\n",
       "    }\n",
       "</style>\n",
       "<table border=\"1\" class=\"dataframe\">\n",
       "  <thead>\n",
       "    <tr style=\"text-align: right;\">\n",
       "      <th></th>\n",
       "      <th>Polarity</th>\n",
       "      <th>Sentiment</th>\n",
       "      <th>OPT_sentiment_score-abstract</th>\n",
       "      <th>OPT_sentiment_score-lead_paragraph</th>\n",
       "      <th>OPT_sentiment_score-all_article_data</th>\n",
       "    </tr>\n",
       "  </thead>\n",
       "  <tbody>\n",
       "    <tr>\n",
       "      <th>count</th>\n",
       "      <td>100.000000</td>\n",
       "      <td>100.000000</td>\n",
       "      <td>100.000000</td>\n",
       "      <td>100.000000</td>\n",
       "      <td>100.000000</td>\n",
       "    </tr>\n",
       "    <tr>\n",
       "      <th>mean</th>\n",
       "      <td>-0.032761</td>\n",
       "      <td>0.540686</td>\n",
       "      <td>0.704010</td>\n",
       "      <td>0.699364</td>\n",
       "      <td>0.653988</td>\n",
       "    </tr>\n",
       "    <tr>\n",
       "      <th>std</th>\n",
       "      <td>0.581867</td>\n",
       "      <td>0.286348</td>\n",
       "      <td>0.093552</td>\n",
       "      <td>0.098762</td>\n",
       "      <td>0.091900</td>\n",
       "    </tr>\n",
       "    <tr>\n",
       "      <th>min</th>\n",
       "      <td>-0.972187</td>\n",
       "      <td>0.007054</td>\n",
       "      <td>0.501620</td>\n",
       "      <td>0.507040</td>\n",
       "      <td>0.500882</td>\n",
       "    </tr>\n",
       "    <tr>\n",
       "      <th>25%</th>\n",
       "      <td>-0.569664</td>\n",
       "      <td>0.296075</td>\n",
       "      <td>0.636666</td>\n",
       "      <td>0.617925</td>\n",
       "      <td>0.562124</td>\n",
       "    </tr>\n",
       "    <tr>\n",
       "      <th>50%</th>\n",
       "      <td>-0.013981</td>\n",
       "      <td>0.578345</td>\n",
       "      <td>0.713512</td>\n",
       "      <td>0.707012</td>\n",
       "      <td>0.664656</td>\n",
       "    </tr>\n",
       "    <tr>\n",
       "      <th>75%</th>\n",
       "      <td>0.467404</td>\n",
       "      <td>0.789954</td>\n",
       "      <td>0.767595</td>\n",
       "      <td>0.782186</td>\n",
       "      <td>0.722852</td>\n",
       "    </tr>\n",
       "    <tr>\n",
       "      <th>max</th>\n",
       "      <td>0.966517</td>\n",
       "      <td>0.998986</td>\n",
       "      <td>0.893490</td>\n",
       "      <td>0.873937</td>\n",
       "      <td>0.878638</td>\n",
       "    </tr>\n",
       "  </tbody>\n",
       "</table>\n",
       "</div>"
      ],
      "text/plain": [
       "         Polarity   Sentiment  OPT_sentiment_score-abstract  \\\n",
       "count  100.000000  100.000000                    100.000000   \n",
       "mean    -0.032761    0.540686                      0.704010   \n",
       "std      0.581867    0.286348                      0.093552   \n",
       "min     -0.972187    0.007054                      0.501620   \n",
       "25%     -0.569664    0.296075                      0.636666   \n",
       "50%     -0.013981    0.578345                      0.713512   \n",
       "75%      0.467404    0.789954                      0.767595   \n",
       "max      0.966517    0.998986                      0.893490   \n",
       "\n",
       "       OPT_sentiment_score-lead_paragraph  \\\n",
       "count                          100.000000   \n",
       "mean                             0.699364   \n",
       "std                              0.098762   \n",
       "min                              0.507040   \n",
       "25%                              0.617925   \n",
       "50%                              0.707012   \n",
       "75%                              0.782186   \n",
       "max                              0.873937   \n",
       "\n",
       "       OPT_sentiment_score-all_article_data  \n",
       "count                            100.000000  \n",
       "mean                               0.653988  \n",
       "std                                0.091900  \n",
       "min                                0.500882  \n",
       "25%                                0.562124  \n",
       "50%                                0.664656  \n",
       "75%                                0.722852  \n",
       "max                                0.878638  "
      ]
     },
     "execution_count": 41,
     "metadata": {},
     "output_type": "execute_result"
    }
   ],
   "source": [
    "media_data.describe()"
   ]
  }
 ],
 "metadata": {
  "kernelspec": {
   "display_name": "NLP",
   "language": "python",
   "name": "python3"
  },
  "language_info": {
   "codemirror_mode": {
    "name": "ipython",
    "version": 3
   },
   "file_extension": ".py",
   "mimetype": "text/x-python",
   "name": "python",
   "nbconvert_exporter": "python",
   "pygments_lexer": "ipython3",
   "version": "3.10.9"
  },
  "orig_nbformat": 4
 },
 "nbformat": 4,
 "nbformat_minor": 2
}
